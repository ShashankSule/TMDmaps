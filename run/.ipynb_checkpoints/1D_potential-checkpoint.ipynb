{
 "cells": [
  {
   "cell_type": "markdown",
   "id": "81a8b3ef",
   "metadata": {},
   "source": [
    "# TMD maps with one-D potential \n",
    "\n",
    "Here we will aim to measure the effect of prefactor reduction in a 1D case of TMD map. Note that our error model is of the form: \n",
    "\n",
    "$$ |4L^{(n)}_{\\epsilon,\\mu}f(x) - \\mathcal{L}f(x)| \\sim \\frac{V(x)\\sqrt{\\log n}}{\\sqrt{n}\\epsilon^{2 + d/2}} + \\epsilon B(x) $$\n",
    "\n",
    "Here $V$ and $B$ are variance and bias error prefactors respectively. The 1-D setup is as follows: \n",
    "\n",
    "1. $V: \\mathbb{R} \\to \\mathbb{R}$ is a (coercive) potential. \n",
    "2. The system $X_t$ is governed by the SDE: \n",
    "$\\begin{align}dX_t = -\\nabla V(X_t) + \\sqrt{2\\beta^{-1}} dW_t \\end{align} $\n",
    "3. The ergodic measure is $\\propto \\exp{\\left(-\\beta V(x)\\right)}$\n",
    "4. The committor satisfies: \n",
    "$$\\begin{align}\\Delta q - \\beta\\nabla V(x) \\cdot \\nabla q(x) = 0,\\:\\: q\\mid_{\\partial A} = 0\\, q\\mid_{\\partial B} = 1 \\end{align}$$\n",
    "\n",
    "Here $A = \\{x < a\\}$, $B = \\{x > b\\}$. The committor function can be given analytically for $x \\in (a,b)$: \n",
    "\n",
    "$$ q(x) = \\frac{\\int_{a}^{x}\\exp{\\left(-\\beta V(x)\\right)}\\,dy}{\\int_{a}^{b}\\exp{\\left(-\\beta V(y)\\right)}\\,dy}$$\n",
    "\n",
    "A good 1-D potential is \n",
    "\n",
    "$$ V(x) = (x^2 - 1)^2 $$\n",
    "\n",
    "We set \n",
    "\n",
    "$$ A = \\{x < -0.8 \\}, \\: B = \\{x > -0.8 \\}$$"
   ]
  },
  {
   "cell_type": "code",
   "execution_count": 1,
   "id": "8c01905f",
   "metadata": {},
   "outputs": [],
   "source": [
    "import os\n",
    "import copy\n",
    "import sys \n",
    "# sys.path.insert(0, os.path.abspath(os.path.join(os.path.dirname(__file__),'..')))\n",
    "sys.path.append(\"..\")\n",
    "\n",
    "# Regular Modules\n",
    "import scipy.sparse as sps\n",
    "import numpy as np\n",
    "import sklearn as sklearn\n",
    "import matplotlib.pyplot as plt\n",
    "import datetime\n",
    "import scipy.integrate as scint\n",
    "#from numpy.random import default_rng\n",
    "import numpy.ma as ma\n",
    "import matplotlib.tri as tri\n",
    "import scipy.io\n",
    "import time \n",
    "from mpl_toolkits.mplot3d import axes3d\n",
    "import argparse\n",
    "\n",
    "# parallelization modules \n",
    "from math import nan\n",
    "from joblib import Parallel, delayed\n",
    "import multiprocess\n",
    "import itertools\n",
    "import tqdm\n",
    "\n",
    "# # My Modules\n",
    "import src.model_systems as model_systems\n",
    "import src.helpers as helpers\n",
    "import src.potentials as potentials\n",
    "import src.diffusion_map as diffusion_map\n",
    "from src.fem.distmesh import * \n",
    "from src.fem.FEM_TPT import *\n",
    "import src.sampling as sampling\n",
    "from datetime import date"
   ]
  },
  {
   "cell_type": "code",
   "execution_count": 116,
   "id": "8d4da352",
   "metadata": {},
   "outputs": [],
   "source": [
    "import scipy.sparse as sps"
   ]
  },
  {
   "cell_type": "markdown",
   "id": "8464ea8d",
   "metadata": {},
   "source": [
    "How to do this: \n",
    "\n",
    "1. Set up drift, potential, invariant measure, committor. \n",
    "\n",
    "2. Set up two datasets: uniform, normal random variable centered @ 0. \n",
    "\n",
    "3. Set up TMD map kernel for each set. This will involve picking epsilon, N. Don't use knn sparsification. Compare KDE's. \n",
    "\n",
    "4. Approximate $\\mathcal{L}$ on some simple $f$ (say $f = x^5 - x$) by plugging in the analytical form for $\\mathcal{L}f = f'' - V'(x)f'(x)$.\n",
    "\n",
    "5. Note that $4\\mathcal{L}_{\\epsilon,\\mu}f(x) \\approx \\mathcal{L}$. DONT FORGET THE FACTOR OF 4!!!"
   ]
  },
  {
   "cell_type": "code",
   "execution_count": 2,
   "id": "39cd3da8",
   "metadata": {},
   "outputs": [],
   "source": [
    "# set up params\n",
    "beta = 1\n",
    "d = 1\n",
    "def potential(x): \n",
    "    return (x**2 - 1)**2 \n",
    "\n",
    "def drift(x): \n",
    "    return 4*x*(x**2 - 1)\n",
    "\n",
    "Z = scint.quad(lambda x: np.exp(-beta*potential(x)), -50, 50)[0]\n",
    "\n",
    "def mu(x): return (1/Z)*np.exp(-beta*potential(x))"
   ]
  },
  {
   "cell_type": "code",
   "execution_count": 76,
   "id": "1639bc22",
   "metadata": {},
   "outputs": [],
   "source": [
    "def f(x): return np.sin(2*np.pi*x)\n",
    "def Lf(x): return -4*(np.pi**2)*np.sin(2*np.pi*x) - beta*4*x*(x**2-1)*(2*np.pi*np.cos(2*np.pi*x))\n",
    "Z_committor = scint.quad(lambda x: np.exp(beta*potential(x)), -0.9,0.9)[0]\n",
    "\n",
    "def committor(x):\n",
    "    if x < -0.9: \n",
    "        return 0.0\n",
    "    elif x > 0.9:\n",
    "        return 1.0\n",
    "    else: \n",
    "        return (1/Z_committor)*scint.quad(lambda y: np.exp(beta*potential(y)), -0.9,x)[0]"
   ]
  },
  {
   "cell_type": "code",
   "execution_count": 117,
   "id": "2634f2db",
   "metadata": {},
   "outputs": [],
   "source": [
    "def construct_L(epsilon, target_measure, K, inds):\n",
    "        r\"\"\" Construct the generator approximation corresponding to input data\n",
    "        \n",
    "        Parameters\n",
    "        ----------\n",
    "        data: array (num features, num samples)\n",
    "        \n",
    "        \"\"\"  \n",
    "\n",
    "        N = K.shape[-1]\n",
    "        \n",
    "        \n",
    "        q = np.array(K.sum(axis=1)).ravel()\n",
    "        q_inv = np.power(q, -1) \n",
    "        Q_inv = sps.spdiags(q_inv, 0, N, N)\n",
    "\n",
    "        # Multiply by target measure and right-normalize\n",
    "        pi = np.power(target_measure, 0.5) \n",
    "        Pi = sps.spdiags(pi, 0, N, N)\n",
    "        Q_inv = Q_inv.dot(Pi)\n",
    "        K_rnorm = K.dot(Q_inv)\n",
    "        \n",
    "        # reindex based on specification\n",
    "        K_rnorm = K_rnorm[inds, inds]\n",
    "        N = K_rnorm.shape[-1]\n",
    "        \n",
    "        # Make left normalizing vector \n",
    "        q = np.array(K_rnorm.sum(axis=1)).ravel()\n",
    "        q_alpha = np.power(q, -1)\n",
    "        D_alpha = sps.spdiags(q_alpha, 0, N, N)\n",
    "        P = D_alpha.dot(K_rnorm)\n",
    "\n",
    "        # Transform Markov Matrix P to get discrete generator L \n",
    "        L = (P - sps.eye(N, N))/epsilon\n",
    "\n",
    "        return L"
   ]
  },
  {
   "cell_type": "code",
   "execution_count": 112,
   "id": "dcd5a1a4",
   "metadata": {},
   "outputs": [],
   "source": [
    "# set up dataset for uniform estimation \n",
    "# ϵ_uniform = 1/(10**(4/5))\n",
    "ϵ_uniform = 1/(10**(4/3))\n",
    "N = int(1e4)\n",
    "# uniform = np.linspace(-2,2,int(N+1)).reshape(N+1,d) # note that p = uniform[0,N/2]\n",
    "uniform = np.random.uniform(-4.0,4.0,N+1).reshape(N+1,d)\n",
    "uniform[N,0] = 0.0\n",
    "target_measure_uniform = np.zeros(N+1)\n",
    "\n",
    "for i in range(N+1):\n",
    "    target_measure_uniform[i] = mu(uniform[i,:])\n",
    "\n",
    "target_dmap_uniform = diffusion_map.TargetMeasureDiffusionMap(epsilon=ϵ_uniform, n_neigh=int(N), \\\n",
    "                                                          target_measure=target_measure_uniform)\n",
    "target_dmap_uniform.construct_generator(uniform.T)\n",
    "K_uniform = target_dmap_uniform.get_kernel()\n",
    "# L_uniform = target_dmap_uniform.get_generator() "
   ]
  },
  {
   "cell_type": "code",
   "execution_count": 118,
   "id": "d183ecdb",
   "metadata": {},
   "outputs": [],
   "source": [
    "inds = np.where(np.abs(uniform) <= 3)[0]"
   ]
  },
  {
   "cell_type": "code",
   "execution_count": 119,
   "id": "ae215cf7",
   "metadata": {},
   "outputs": [
    {
     "ename": "ValueError",
     "evalue": "dimension mismatch",
     "output_type": "error",
     "traceback": [
      "\u001b[0;31m---------------------------------------------------------------------------\u001b[0m",
      "\u001b[0;31mValueError\u001b[0m                                Traceback (most recent call last)",
      "Input \u001b[0;32mIn [119]\u001b[0m, in \u001b[0;36m<cell line: 1>\u001b[0;34m()\u001b[0m\n\u001b[0;32m----> 1\u001b[0m L \u001b[38;5;241m=\u001b[39m \u001b[43mconstruct_L\u001b[49m\u001b[43m(\u001b[49m\u001b[43mϵ_uniform\u001b[49m\u001b[43m,\u001b[49m\u001b[43m \u001b[49m\u001b[43mtarget_measure_uniform\u001b[49m\u001b[43m,\u001b[49m\u001b[43m \u001b[49m\u001b[43mK_uniform\u001b[49m\u001b[43m,\u001b[49m\u001b[43m \u001b[49m\u001b[43minds\u001b[49m\u001b[43m)\u001b[49m\n",
      "Input \u001b[0;32mIn [117]\u001b[0m, in \u001b[0;36mconstruct_L\u001b[0;34m(epsilon, target_measure, K, inds)\u001b[0m\n\u001b[1;32m     29\u001b[0m q_alpha \u001b[38;5;241m=\u001b[39m np\u001b[38;5;241m.\u001b[39mpower(q, \u001b[38;5;241m-\u001b[39m\u001b[38;5;241m1\u001b[39m)\n\u001b[1;32m     30\u001b[0m D_alpha \u001b[38;5;241m=\u001b[39m sps\u001b[38;5;241m.\u001b[39mspdiags(q_alpha, \u001b[38;5;241m0\u001b[39m, N, N)\n\u001b[0;32m---> 31\u001b[0m P \u001b[38;5;241m=\u001b[39m \u001b[43mD_alpha\u001b[49m\u001b[38;5;241;43m.\u001b[39;49m\u001b[43mdot\u001b[49m\u001b[43m(\u001b[49m\u001b[43mK_rnorm\u001b[49m\u001b[43m)\u001b[49m\n\u001b[1;32m     33\u001b[0m \u001b[38;5;66;03m# Transform Markov Matrix P to get discrete generator L \u001b[39;00m\n\u001b[1;32m     34\u001b[0m L \u001b[38;5;241m=\u001b[39m (P \u001b[38;5;241m-\u001b[39m sps\u001b[38;5;241m.\u001b[39meye(N, N))\u001b[38;5;241m/\u001b[39mepsilon\n",
      "File \u001b[0;32m~/miniforge3/lib/python3.9/site-packages/scipy/sparse/base.py:359\u001b[0m, in \u001b[0;36mspmatrix.dot\u001b[0;34m(self, other)\u001b[0m\n\u001b[1;32m    346\u001b[0m \u001b[38;5;28;01mdef\u001b[39;00m \u001b[38;5;21mdot\u001b[39m(\u001b[38;5;28mself\u001b[39m, other):\n\u001b[1;32m    347\u001b[0m     \u001b[38;5;124;03m\"\"\"Ordinary dot product\u001b[39;00m\n\u001b[1;32m    348\u001b[0m \n\u001b[1;32m    349\u001b[0m \u001b[38;5;124;03m    Examples\u001b[39;00m\n\u001b[0;32m   (...)\u001b[0m\n\u001b[1;32m    357\u001b[0m \n\u001b[1;32m    358\u001b[0m \u001b[38;5;124;03m    \"\"\"\u001b[39;00m\n\u001b[0;32m--> 359\u001b[0m     \u001b[38;5;28;01mreturn\u001b[39;00m \u001b[38;5;28;43mself\u001b[39;49m\u001b[43m \u001b[49m\u001b[38;5;241;43m*\u001b[39;49m\u001b[43m \u001b[49m\u001b[43mother\u001b[49m\n",
      "File \u001b[0;32m~/miniforge3/lib/python3.9/site-packages/scipy/sparse/base.py:516\u001b[0m, in \u001b[0;36mspmatrix.__mul__\u001b[0;34m(self, other)\u001b[0m\n\u001b[1;32m    511\u001b[0m \u001b[38;5;28;01melif\u001b[39;00m other\u001b[38;5;241m.\u001b[39mndim \u001b[38;5;241m==\u001b[39m \u001b[38;5;241m2\u001b[39m:\n\u001b[1;32m    512\u001b[0m     \u001b[38;5;66;03m##\u001b[39;00m\n\u001b[1;32m    513\u001b[0m     \u001b[38;5;66;03m# dense 2D array or matrix (\"multivector\")\u001b[39;00m\n\u001b[1;32m    515\u001b[0m     \u001b[38;5;28;01mif\u001b[39;00m other\u001b[38;5;241m.\u001b[39mshape[\u001b[38;5;241m0\u001b[39m] \u001b[38;5;241m!=\u001b[39m \u001b[38;5;28mself\u001b[39m\u001b[38;5;241m.\u001b[39mshape[\u001b[38;5;241m1\u001b[39m]:\n\u001b[0;32m--> 516\u001b[0m         \u001b[38;5;28;01mraise\u001b[39;00m \u001b[38;5;167;01mValueError\u001b[39;00m(\u001b[38;5;124m'\u001b[39m\u001b[38;5;124mdimension mismatch\u001b[39m\u001b[38;5;124m'\u001b[39m)\n\u001b[1;32m    518\u001b[0m     result \u001b[38;5;241m=\u001b[39m \u001b[38;5;28mself\u001b[39m\u001b[38;5;241m.\u001b[39m_mul_multivector(np\u001b[38;5;241m.\u001b[39masarray(other))\n\u001b[1;32m    520\u001b[0m     \u001b[38;5;28;01mif\u001b[39;00m \u001b[38;5;28misinstance\u001b[39m(other, np\u001b[38;5;241m.\u001b[39mmatrix):\n",
      "\u001b[0;31mValueError\u001b[0m: dimension mismatch"
     ]
    }
   ],
   "source": [
    "L = construct_L(ϵ_uniform, target_measure_uniform, K_uniform, inds)"
   ]
  },
  {
   "cell_type": "code",
   "execution_count": 8,
   "id": "e49ab299",
   "metadata": {},
   "outputs": [],
   "source": [
    "# set up dataset for biased estimation \n",
    "\n",
    "N = int(1e4)\n",
    "ϵ_biased = 1/(10**(4/5))\n",
    "biased = np.random.randn(int(N+1)).reshape(N+1,d) # p = biased[N]\n",
    "biased[N,0] = 0.0\n",
    "target_measure_biased = np.zeros(N+1)\n",
    "for i in range(N+1):\n",
    "    target_measure_biased[i] = mu(biased[i,:])\n",
    "\n",
    "target_dmap_biased = diffusion_map.TargetMeasureDiffusionMap(epsilon=ϵ_biased, n_neigh=int(N), \\\n",
    "                                                          target_measure=target_measure_biased)\n",
    "target_dmap_biased.construct_generator(biased.T)\n",
    "K_biased = target_dmap_biased.get_kernel()\n",
    "L_biased = target_dmap_biased.get_generator() "
   ]
  },
  {
   "cell_type": "code",
   "execution_count": 4,
   "id": "dc2e17fc",
   "metadata": {},
   "outputs": [],
   "source": [
    "def f(x): return x**6 - x \n",
    "def Lf(x): return 30*(x**4) - beta*4*x*(x**2-1)*(6*(x**5) - 1)"
   ]
  },
  {
   "cell_type": "code",
   "execution_count": 5,
   "id": "1dc9f862",
   "metadata": {},
   "outputs": [],
   "source": [
    "Z_committor = scint.quad(lambda x: np.exp(beta*potential(x)), -0.9,0.9)[0]\n",
    "\n",
    "def committor(x):\n",
    "    if x < -0.9: \n",
    "        return 0.0\n",
    "    elif x > 0.9:\n",
    "        return 1.0\n",
    "    else: \n",
    "        return (1/Z_committor)*scint.quad(lambda y: np.exp(beta*potential(y)), -0.9,x)[0]"
   ]
  },
  {
   "cell_type": "markdown",
   "id": "955d0a2b",
   "metadata": {},
   "source": [
    "# Testing on pointwise estimates"
   ]
  },
  {
   "cell_type": "markdown",
   "id": "003eb732",
   "metadata": {},
   "source": [
    "## Uniform "
   ]
  },
  {
   "cell_type": "code",
   "execution_count": 106,
   "id": "1c400c71",
   "metadata": {},
   "outputs": [
    {
     "ename": "IndexError",
     "evalue": "too many indices for array: array is 1-dimensional, but 2 were indexed",
     "output_type": "error",
     "traceback": [
      "\u001b[0;31m---------------------------------------------------------------------------\u001b[0m",
      "\u001b[0;31mIndexError\u001b[0m                                Traceback (most recent call last)",
      "Input \u001b[0;32mIn [106]\u001b[0m, in \u001b[0;36m<cell line: 2>\u001b[0;34m()\u001b[0m\n\u001b[1;32m      1\u001b[0m full_uniform \u001b[38;5;241m=\u001b[39m uniform \n\u001b[0;32m----> 2\u001b[0m uniform \u001b[38;5;241m=\u001b[39m \u001b[43muniform\u001b[49m\u001b[43m[\u001b[49m\u001b[43mnp\u001b[49m\u001b[38;5;241;43m.\u001b[39;49m\u001b[43mwhere\u001b[49m\u001b[43m(\u001b[49m\u001b[43mnp\u001b[49m\u001b[38;5;241;43m.\u001b[39;49m\u001b[43mabs\u001b[49m\u001b[43m(\u001b[49m\u001b[43muniform\u001b[49m\u001b[43m)\u001b[49m\u001b[43m \u001b[49m\u001b[38;5;241;43m<\u001b[39;49m\u001b[38;5;241;43m=\u001b[39;49m\u001b[43m \u001b[49m\u001b[38;5;241;43m3\u001b[39;49m\u001b[43m)\u001b[49m\u001b[43m,\u001b[49m\u001b[38;5;241;43m1\u001b[39;49m\u001b[43m]\u001b[49m\n",
      "\u001b[0;31mIndexError\u001b[0m: too many indices for array: array is 1-dimensional, but 2 were indexed"
     ]
    }
   ],
   "source": [
    "full_uniform = uniform \n",
    "uniform = uniform[np.where(np.abs(uniform) <= 3)]"
   ]
  },
  {
   "cell_type": "code",
   "execution_count": 105,
   "id": "8ed0e70b",
   "metadata": {},
   "outputs": [
    {
     "ename": "AxisError",
     "evalue": "axis 1 is out of bounds for array of dimension 1",
     "output_type": "error",
     "traceback": [
      "\u001b[0;31m---------------------------------------------------------------------------\u001b[0m",
      "\u001b[0;31mAxisError\u001b[0m                                 Traceback (most recent call last)",
      "Input \u001b[0;32mIn [105]\u001b[0m, in \u001b[0;36m<cell line: 5>\u001b[0;34m()\u001b[0m\n\u001b[1;32m      1\u001b[0m \u001b[38;5;66;03m# derivative on uniform set \u001b[39;00m\n\u001b[1;32m      2\u001b[0m \u001b[38;5;66;03m# F_uniform = f(uniform)\u001b[39;00m\n\u001b[1;32m      3\u001b[0m \u001b[38;5;66;03m# LF_uniform_true = Lf(uniform)\u001b[39;00m\n\u001b[1;32m      4\u001b[0m \u001b[38;5;66;03m# LF_uniform_TMD = L_uniform@F_uniform \u001b[39;00m\n\u001b[0;32m----> 5\u001b[0m F_uniform \u001b[38;5;241m=\u001b[39m \u001b[43mnp\u001b[49m\u001b[38;5;241;43m.\u001b[39;49m\u001b[43mapply_along_axis\u001b[49m\u001b[43m(\u001b[49m\u001b[43mf\u001b[49m\u001b[43m,\u001b[49m\u001b[38;5;241;43m1\u001b[39;49m\u001b[43m,\u001b[49m\u001b[43muniform\u001b[49m\u001b[43m)\u001b[49m\n\u001b[1;32m      6\u001b[0m LF_uniform_true \u001b[38;5;241m=\u001b[39m np\u001b[38;5;241m.\u001b[39mapply_along_axis(Lf, \u001b[38;5;241m1\u001b[39m, uniform)\n\u001b[1;32m      7\u001b[0m LF_uniform_TMD \u001b[38;5;241m=\u001b[39m L_uniform\u001b[38;5;129m@F_uniform\u001b[39m\n",
      "File \u001b[0;32m<__array_function__ internals>:5\u001b[0m, in \u001b[0;36mapply_along_axis\u001b[0;34m(*args, **kwargs)\u001b[0m\n",
      "File \u001b[0;32m~/miniforge3/lib/python3.9/site-packages/numpy/lib/shape_base.py:361\u001b[0m, in \u001b[0;36mapply_along_axis\u001b[0;34m(func1d, axis, arr, *args, **kwargs)\u001b[0m\n\u001b[1;32m    359\u001b[0m arr \u001b[38;5;241m=\u001b[39m asanyarray(arr)\n\u001b[1;32m    360\u001b[0m nd \u001b[38;5;241m=\u001b[39m arr\u001b[38;5;241m.\u001b[39mndim\n\u001b[0;32m--> 361\u001b[0m axis \u001b[38;5;241m=\u001b[39m \u001b[43mnormalize_axis_index\u001b[49m\u001b[43m(\u001b[49m\u001b[43maxis\u001b[49m\u001b[43m,\u001b[49m\u001b[43m \u001b[49m\u001b[43mnd\u001b[49m\u001b[43m)\u001b[49m\n\u001b[1;32m    363\u001b[0m \u001b[38;5;66;03m# arr, with the iteration axis at the end\u001b[39;00m\n\u001b[1;32m    364\u001b[0m in_dims \u001b[38;5;241m=\u001b[39m \u001b[38;5;28mlist\u001b[39m(\u001b[38;5;28mrange\u001b[39m(nd))\n",
      "\u001b[0;31mAxisError\u001b[0m: axis 1 is out of bounds for array of dimension 1"
     ]
    }
   ],
   "source": [
    "# derivative on uniform set \n",
    "# F_uniform = f(uniform)\n",
    "# LF_uniform_true = Lf(uniform)\n",
    "# LF_uniform_TMD = L_uniform@F_uniform \n",
    "F_uniform = np.apply_along_axis(f,1,uniform)\n",
    "LF_uniform_true = np.apply_along_axis(Lf, 1, uniform)\n",
    "LF_uniform_TMD = L_uniform@F_uniform"
   ]
  },
  {
   "cell_type": "code",
   "execution_count": 91,
   "id": "7f71bc86",
   "metadata": {},
   "outputs": [
    {
     "data": {
      "text/plain": [
       "(0.0, 1.0)"
      ]
     },
     "execution_count": 91,
     "metadata": {},
     "output_type": "execute_result"
    },
    {
     "data": {
      "image/png": "[encoded data removed]",
      "text/plain": [
       "<Figure size 432x576 with 2 Axes>"
      ]
     },
     "metadata": {
      "needs_background": "light"
     },
     "output_type": "display_data"
    }
   ],
   "source": [
    "fig, (ax1, ax2) = plt.subplots(2,1, figsize=(6,8))\n",
    "ax1.scatter(uniform, LF_uniform_true, s=1.0, label=\"$\\mathcal{L}f$\")\n",
    "ax1.scatter(uniform, 4*LF_uniform_TMD, s=1.0, label=\"$L^{(n)}_{\\epsilon,\\mu}f$\")\n",
    "# ax1.set_xlim((-0.5,0.5))\n",
    "ax1.set_ylim((-100,100))\n",
    "ax1.set(xlabel=\"x\")\n",
    "ax1.legend()\n",
    "ax2.scatter(uniform, np.abs(LF_uniform_true-4*LF_uniform_TMD), s=1.0)\n",
    "ax2.set(xlabel=\"x\", ylabel=\"$|L^{n}_{\\epsilon,\\mu}f(0) - \\mathcal{L}f(0)|$\")\n",
    "ax2.set_xlim((-0.5,0.5))\n",
    "ax2.set_ylim((0.0,1.0))"
   ]
  },
  {
   "cell_type": "code",
   "execution_count": 92,
   "id": "62a3969a",
   "metadata": {},
   "outputs": [],
   "source": [
    "# check committor on uniform set \n",
    "committor_uniform = np.apply_along_axis(committor, 1, uniform)\n",
    "# LF_uniform_true = Lf(uniform)\n",
    "Lcommittor_uniform_TMD = L_uniform@committor_uniform "
   ]
  },
  {
   "cell_type": "code",
   "execution_count": 93,
   "id": "ebdebc07",
   "metadata": {},
   "outputs": [
    {
     "data": {
      "text/plain": [
       "(-0.05, 0.05)"
      ]
     },
     "execution_count": 93,
     "metadata": {},
     "output_type": "execute_result"
    },
    {
     "data": {
      "image/png": "[encoded data removed]",
      "text/plain": [
       "<Figure size 432x288 with 2 Axes>"
      ]
     },
     "metadata": {
      "needs_background": "light"
     },
     "output_type": "display_data"
    }
   ],
   "source": [
    "fig, (ax1, ax2) = plt.subplots(1,2)\n",
    "# ax1.scatter(uniform, LF_uniform_true, s=1.0)\n",
    "ax1.scatter(uniform, Lcommittor_uniform_TMD, s=1.0)\n",
    "ax1.set_xlim((-0.9,0.9))\n",
    "ax1.set_ylim((-0.05,0.05))\n",
    "# ax2.scatter(uniform, np.abs(LF_uniform_true-4*LF_uniform_TMD), s=1.0)\n",
    "# ax2.set_xlim((-0.5,0.5))"
   ]
  },
  {
   "cell_type": "code",
   "execution_count": 94,
   "id": "dea65f28",
   "metadata": {},
   "outputs": [],
   "source": [
    "# checking KDE \n",
    "rho_epsilon_uniform = (1/(N+1))*(1/(np.pi*ϵ_uniform)**(d/2))*K_uniform@np.ones((N+1,1))"
   ]
  },
  {
   "cell_type": "code",
   "execution_count": 95,
   "id": "b8fdb2ea",
   "metadata": {},
   "outputs": [
    {
     "data": {
      "text/plain": [
       "array([[0.12897199],\n",
       "       [0.12511303],\n",
       "       [0.11902737],\n",
       "       ...,\n",
       "       [0.12936918],\n",
       "       [0.12442875],\n",
       "       [0.12969746]])"
      ]
     },
     "execution_count": 95,
     "metadata": {},
     "output_type": "execute_result"
    }
   ],
   "source": [
    "rho_epsilon_uniform"
   ]
  },
  {
   "cell_type": "code",
   "execution_count": 96,
   "id": "221a5e7e",
   "metadata": {},
   "outputs": [],
   "source": [
    "uniform_rnd = (1/8)*np.ones(uniform.shape)"
   ]
  },
  {
   "cell_type": "code",
   "execution_count": 97,
   "id": "1a802b05",
   "metadata": {},
   "outputs": [
    {
     "data": {
      "text/plain": [
       "<matplotlib.legend.Legend at 0x13fb06520>"
      ]
     },
     "execution_count": 97,
     "metadata": {},
     "output_type": "execute_result"
    },
    {
     "data": {
      "image/png": "[encoded data removed]",
      "text/plain": [
       "<Figure size 432x288 with 1 Axes>"
      ]
     },
     "metadata": {
      "needs_background": "light"
     },
     "output_type": "display_data"
    }
   ],
   "source": [
    "plt.scatter(uniform, rho_epsilon_uniform, s=1.0, label=\"true density\")\n",
    "plt.scatter(uniform, uniform_rnd, s=1.0, label=\"estimated density\")\n",
    "# plt.ylim((0.20,0.30))\n",
    "# plt.xlim((-1.5,1.5))\n",
    "plt.legend()"
   ]
  },
  {
   "cell_type": "code",
   "execution_count": 33,
   "id": "3903eac8",
   "metadata": {},
   "outputs": [
    {
     "data": {
      "text/plain": [
       "<matplotlib.legend.Legend at 0x137a74220>"
      ]
     },
     "execution_count": 33,
     "metadata": {},
     "output_type": "execute_result"
    },
    {
     "data": {
      "image/png": "[encoded data removed]",
      "text/plain": [
       "<Figure size 432x288 with 1 Axes>"
      ]
     },
     "metadata": {
      "needs_background": "light"
     },
     "output_type": "display_data"
    }
   ],
   "source": [
    "plt.scatter(uniform, rho_epsilon_uniform, s=1.0, label=\"true density\")\n",
    "plt.scatter(uniform, uniform_rnd, s=1.0, label=\"estimated density\")\n",
    "plt.ylim((0.20,0.30))\n",
    "# plt.xlim((-1.5,1.5))\n",
    "plt.legend()"
   ]
  },
  {
   "cell_type": "code",
   "execution_count": 101,
   "id": "2f083516",
   "metadata": {},
   "outputs": [
    {
     "data": {
      "text/plain": [
       "(-0.01, 0.015)"
      ]
     },
     "execution_count": 101,
     "metadata": {},
     "output_type": "execute_result"
    },
    {
     "data": {
      "image/png": "[encoded data removed]",
      "text/plain": [
       "<Figure size 432x288 with 1 Axes>"
      ]
     },
     "metadata": {
      "needs_background": "light"
     },
     "output_type": "display_data"
    }
   ],
   "source": [
    "plt.scatter(uniform, rho_epsilon_uniform-uniform_rnd, s=1.0)\n",
    "plt.ylim((-0.01,0.015))"
   ]
  },
  {
   "cell_type": "code",
   "execution_count": 103,
   "id": "052cded1",
   "metadata": {},
   "outputs": [
    {
     "data": {
      "text/plain": [
       "(array([    0,     1,     2, ...,  9998,  9999, 10000]),\n",
       " array([0, 0, 0, ..., 0, 0, 0]))"
      ]
     },
     "execution_count": 103,
     "metadata": {},
     "output_type": "execute_result"
    }
   ],
   "source": [
    "np.where(np.abs(uniform) <= 3)"
   ]
  },
  {
   "cell_type": "markdown",
   "id": "97b89720",
   "metadata": {},
   "source": [
    "## Biased"
   ]
  },
  {
   "cell_type": "code",
   "execution_count": 35,
   "id": "65bdf2ae",
   "metadata": {},
   "outputs": [],
   "source": [
    "# derivative on biased set \n",
    "F_biased = f(biased)\n",
    "LF_biased_true = Lf(biased)\n",
    "LF_biased_TMD = L_biased@F_biased"
   ]
  },
  {
   "cell_type": "code",
   "execution_count": 49,
   "id": "9d92cac1",
   "metadata": {},
   "outputs": [
    {
     "data": {
      "text/plain": [
       "(0.0, 1.0)"
      ]
     },
     "execution_count": 49,
     "metadata": {},
     "output_type": "execute_result"
    },
    {
     "data": {
      "image/png": "[encoded data removed]",
      "text/plain": [
       "<Figure size 432x576 with 2 Axes>"
      ]
     },
     "metadata": {
      "needs_background": "light"
     },
     "output_type": "display_data"
    }
   ],
   "source": [
    "fig, (ax1, ax2) = plt.subplots(2,1, figsize=(6,8))\n",
    "ax1.scatter(biased, LF_biased_true, s=1.0, label=\"$\\mathcal{L}f$\")\n",
    "ax1.scatter(biased, 4*LF_biased_TMD, s=1.0, label=\"$L^{(n)}_{\\epsilon,\\mu}f$\")\n",
    "ax1.set_xlim((-2.0,2.0))\n",
    "ax1.set_ylim((-100,100))\n",
    "ax1.set(xlabel=\"x\")\n",
    "ax1.legend()\n",
    "ax2.scatter(biased, np.abs(LF_biased_true-4*LF_biased_TMD), s=1.0)\n",
    "ax2.set(xlabel=\"x\", ylabel=\"$|L^{n}_{\\epsilon,\\mu}f(0) - \\mathcal{L}f(0)|$\")\n",
    "ax2.set_xlim((-2.0,2.0))\n",
    "ax2.set_ylim((0,1.0))"
   ]
  },
  {
   "cell_type": "code",
   "execution_count": 85,
   "id": "4c03b629",
   "metadata": {},
   "outputs": [],
   "source": [
    "# check committor on uniform set \n",
    "committor_biased = np.apply_along_axis(committor, 1, biased)\n",
    "# LF_uniform_true = Lf(uniform)\n",
    "Lcommittor_biased_TMD = L_biased@committor_biased"
   ]
  },
  {
   "cell_type": "code",
   "execution_count": 90,
   "id": "e9ce5663",
   "metadata": {},
   "outputs": [
    {
     "data": {
      "text/plain": [
       "(-0.45, 0.45)"
      ]
     },
     "execution_count": 90,
     "metadata": {},
     "output_type": "execute_result"
    },
    {
     "data": {
      "image/png": "[encoded data removed]",
      "text/plain": [
       "<Figure size 432x288 with 1 Axes>"
      ]
     },
     "metadata": {
      "needs_background": "light"
     },
     "output_type": "display_data"
    }
   ],
   "source": [
    "fig, ax1 = plt.subplots()\n",
    "# ax1.scatter(uniform, LF_uniform_true, s=1.0)\n",
    "ax1.scatter(biased, 4*Lcommittor_biased_TMD, s=1.0)\n",
    "ax1.set_xlim((-0.45,0.45))\n",
    "# ax2.scatter(uniform, np.abs(LF_uniform_true-4*LF_uniform_TMD), s=1.0)\n",
    "# ax2.set_xlim((-0.5,0.5))"
   ]
  },
  {
   "cell_type": "code",
   "execution_count": 41,
   "id": "83b98faf",
   "metadata": {},
   "outputs": [
    {
     "data": {
      "text/plain": [
       "0.15848931924611132"
      ]
     },
     "execution_count": 41,
     "metadata": {},
     "output_type": "execute_result"
    }
   ],
   "source": [
    "ϵ_biased"
   ]
  },
  {
   "cell_type": "code",
   "execution_count": 42,
   "id": "f9656c99",
   "metadata": {},
   "outputs": [],
   "source": [
    "# checking KDE \n",
    "rho_epsilon_biased = (1/(N+1))*(1/(np.pi*ϵ_biased)**(d/2))*K_biased@np.ones((N+1,1))"
   ]
  },
  {
   "cell_type": "code",
   "execution_count": 43,
   "id": "8ba0118f",
   "metadata": {},
   "outputs": [],
   "source": [
    "normal_rnd = (1/(2*np.pi)**(d/2))*np.exp(-(biased**2)/2)"
   ]
  },
  {
   "cell_type": "code",
   "execution_count": 45,
   "id": "9aa5aa9a",
   "metadata": {},
   "outputs": [
    {
     "data": {
      "text/plain": [
       "<matplotlib.legend.Legend at 0x137549460>"
      ]
     },
     "execution_count": 45,
     "metadata": {},
     "output_type": "execute_result"
    },
    {
     "data": {
      "image/png": "[encoded data removed]",
      "text/plain": [
       "<Figure size 432x288 with 1 Axes>"
      ]
     },
     "metadata": {
      "needs_background": "light"
     },
     "output_type": "display_data"
    }
   ],
   "source": [
    "plt.scatter(biased, rho_epsilon_biased, s=1.0, label=\"estimated density\")\n",
    "plt.scatter(biased, normal_rnd, s=1.0, label=\"true density\")\n",
    "plt.legend()"
   ]
  },
  {
   "cell_type": "code",
   "execution_count": 28,
   "id": "7ccd4de6",
   "metadata": {},
   "outputs": [
    {
     "data": {
      "text/plain": [
       "<matplotlib.collections.PathCollection at 0x7fe53758ebe0>"
      ]
     },
     "execution_count": 28,
     "metadata": {},
     "output_type": "execute_result"
    },
    {
     "data": {
      "image/png": "[encoded data removed]",
      "text/plain": [
       "<Figure size 432x288 with 1 Axes>"
      ]
     },
     "metadata": {
      "needs_background": "light"
     },
     "output_type": "display_data"
    }
   ],
   "source": [
    "plt.scatter(biased, normal_rnd-rho_epsilon_biased, s=1.0)"
   ]
  },
  {
   "cell_type": "markdown",
   "id": "90a6f063",
   "metadata": {},
   "source": [
    "Scaling law seems to be 2 + d/2! "
   ]
  },
  {
   "cell_type": "markdown",
   "id": "d124c706",
   "metadata": {},
   "source": [
    "# Testing bias error \n",
    "\n",
    "Main idea: For each uniform/biased dataset do the following. Have a range of epsilons, and pick N according to the 1/2 + 0.5d scaling law. Then approximate f with the TMD map generator and compare error according to epsilon. Inshallah everything should lineup roughly along a line. "
   ]
  },
  {
   "cell_type": "markdown",
   "id": "8d36ec40",
   "metadata": {},
   "source": [
    "## Uniform"
   ]
  },
  {
   "cell_type": "code",
   "execution_count": 9,
   "id": "e357bca9",
   "metadata": {},
   "outputs": [],
   "source": [
    "# set up info \n",
    "epsilons = np.linspace(0.04, 0.06, 10)  # actual sim \n",
    "# epsilons = np.linspace(0.06, 0.07, 2)     # trial params for debug \n",
    "Ns_uniform = epsilons**(-3)\n",
    "epsilons_range = len(epsilons)\n",
    "ntrials = 12 # actual sim \n",
    "# ntrials = 1    # trial params for debug \n",
    "trial_ids = np.linspace(1,ntrials,ntrials)\n",
    "# Lcommittor_uniform_TMD = np.zeros((epsilons_range, ntrials))"
   ]
  },
  {
   "cell_type": "code",
   "execution_count": 14,
   "id": "c902dac9",
   "metadata": {},
   "outputs": [],
   "source": [
    "def task(t, regime=\"uniform\"):\n",
    "    # ϵ_uniform = epsilons_uniform[i]\n",
    "    np.random.seed() \n",
    "    ϵ, _  = t\n",
    "    N = int(ϵ**(-3))\n",
    "    \n",
    "    if regime==\"uniform\":\n",
    "        data = np.random.uniform(-2.0,2.0,N+1).reshape(N+1,d)\n",
    "    else:\n",
    "        data = np.random.randn(int(N+1)).reshape(N+1,d)\n",
    "    \n",
    "    data[N,0] = 0.0\n",
    "    target_measure = np.zeros(N+1)\n",
    "\n",
    "    for i in range(N+1):\n",
    "        target_measure[i] = mu(data[i,:])\n",
    "\n",
    "    target_dmap = diffusion_map.TargetMeasureDiffusionMap(epsilon=ϵ, n_neigh=int(N), \\\n",
    "                                                              target_measure=target_measure)\n",
    "    target_dmap.construct_generator(data.T)\n",
    "    # print(\"Got kernel!\")\n",
    "    K = target_dmap.get_kernel()\n",
    "    L = target_dmap.get_generator() \n",
    "    # check committor on uniform set \n",
    "    committor_data = np.apply_along_axis(committor, 1, data)\n",
    "    # LF_uniform_true = Lf(uniform)\n",
    "    Lcommittor_atzero = L[-1,:]@committor_data\n",
    "    print(\"Got result!\")\n",
    "    return Lcommittor_atzero[0]"
   ]
  },
  {
   "cell_type": "code",
   "execution_count": 11,
   "id": "2a980084",
   "metadata": {},
   "outputs": [
    {
     "ename": "TypeError",
     "evalue": "task() got an unexpected keyword argument 'regime'",
     "output_type": "error",
     "traceback": [
      "\u001b[0;31m---------------------------------------------------------------------------\u001b[0m",
      "\u001b[0;31mRemoteTraceback\u001b[0m                           Traceback (most recent call last)",
      "\u001b[0;31mRemoteTraceback\u001b[0m: \n\"\"\"\nTraceback (most recent call last):\n  File \"/home/ssule25/miniconda3/lib/python3.9/site-packages/multiprocess/pool.py\", line 125, in worker\n    result = (True, func(*args, **kwds))\n  File \"/home/ssule25/miniconda3/lib/python3.9/site-packages/multiprocess/pool.py\", line 48, in mapstar\n    return list(map(*args))\n  File \"/tmp/ipykernel_10517/3053196996.py\", line 4, in task_unif\n    def task_unif(t): return task(t, regime=\"uniform\")\nTypeError: task() got an unexpected keyword argument 'regime'\n\"\"\"",
      "\nThe above exception was the direct cause of the following exception:\n",
      "\u001b[0;31mTypeError\u001b[0m                                 Traceback (most recent call last)",
      "Input \u001b[0;32mIn [11]\u001b[0m, in \u001b[0;36m<cell line: 5>\u001b[0;34m()\u001b[0m\n\u001b[1;32m      4\u001b[0m \u001b[38;5;28;01mdef\u001b[39;00m \u001b[38;5;21mtask_unif\u001b[39m(t): \u001b[38;5;28;01mreturn\u001b[39;00m task(t, regime\u001b[38;5;241m=\u001b[39m\u001b[38;5;124m\"\u001b[39m\u001b[38;5;124muniform\u001b[39m\u001b[38;5;124m\"\u001b[39m)\n\u001b[1;32m      5\u001b[0m \u001b[38;5;28;01mwith\u001b[39;00m multiprocess\u001b[38;5;241m.\u001b[39mPool(multiprocess\u001b[38;5;241m.\u001b[39mcpu_count()) \u001b[38;5;28;01mas\u001b[39;00m pool:\n\u001b[0;32m----> 6\u001b[0m     result \u001b[38;5;241m=\u001b[39m \u001b[43mpool\u001b[49m\u001b[38;5;241;43m.\u001b[39;49m\u001b[43mmap\u001b[49m\u001b[43m(\u001b[49m\u001b[43mtask_unif\u001b[49m\u001b[43m,\u001b[49m\u001b[43m \u001b[49m\u001b[43margs\u001b[49m\u001b[43m)\u001b[49m\n",
      "File \u001b[0;32m~/miniconda3/lib/python3.9/site-packages/multiprocess/pool.py:364\u001b[0m, in \u001b[0;36mPool.map\u001b[0;34m(self, func, iterable, chunksize)\u001b[0m\n\u001b[1;32m    359\u001b[0m \u001b[38;5;28;01mdef\u001b[39;00m \u001b[38;5;21mmap\u001b[39m(\u001b[38;5;28mself\u001b[39m, func, iterable, chunksize\u001b[38;5;241m=\u001b[39m\u001b[38;5;28;01mNone\u001b[39;00m):\n\u001b[1;32m    360\u001b[0m     \u001b[38;5;124;03m'''\u001b[39;00m\n\u001b[1;32m    361\u001b[0m \u001b[38;5;124;03m    Apply `func` to each element in `iterable`, collecting the results\u001b[39;00m\n\u001b[1;32m    362\u001b[0m \u001b[38;5;124;03m    in a list that is returned.\u001b[39;00m\n\u001b[1;32m    363\u001b[0m \u001b[38;5;124;03m    '''\u001b[39;00m\n\u001b[0;32m--> 364\u001b[0m     \u001b[38;5;28;01mreturn\u001b[39;00m \u001b[38;5;28;43mself\u001b[39;49m\u001b[38;5;241;43m.\u001b[39;49m\u001b[43m_map_async\u001b[49m\u001b[43m(\u001b[49m\u001b[43mfunc\u001b[49m\u001b[43m,\u001b[49m\u001b[43m \u001b[49m\u001b[43miterable\u001b[49m\u001b[43m,\u001b[49m\u001b[43m \u001b[49m\u001b[43mmapstar\u001b[49m\u001b[43m,\u001b[49m\u001b[43m \u001b[49m\u001b[43mchunksize\u001b[49m\u001b[43m)\u001b[49m\u001b[38;5;241;43m.\u001b[39;49m\u001b[43mget\u001b[49m\u001b[43m(\u001b[49m\u001b[43m)\u001b[49m\n",
      "File \u001b[0;32m~/miniconda3/lib/python3.9/site-packages/multiprocess/pool.py:771\u001b[0m, in \u001b[0;36mApplyResult.get\u001b[0;34m(self, timeout)\u001b[0m\n\u001b[1;32m    769\u001b[0m     \u001b[38;5;28;01mreturn\u001b[39;00m \u001b[38;5;28mself\u001b[39m\u001b[38;5;241m.\u001b[39m_value\n\u001b[1;32m    770\u001b[0m \u001b[38;5;28;01melse\u001b[39;00m:\n\u001b[0;32m--> 771\u001b[0m     \u001b[38;5;28;01mraise\u001b[39;00m \u001b[38;5;28mself\u001b[39m\u001b[38;5;241m.\u001b[39m_value\n",
      "\u001b[0;31mTypeError\u001b[0m: task() got an unexpected keyword argument 'regime'"
     ]
    }
   ],
   "source": [
    "# full parallel\n",
    "args = list(itertools.product(*[epsilons_uniform, trial_ids])) \n",
    "# create iterable for multiprocess\n",
    "def task_unif(t): return task(t, regime=\"uniform\")\n",
    "with multiprocess.Pool(multiprocess.cpu_count()) as pool:\n",
    "    result = pool.map(task_unif, args)"
   ]
  },
  {
   "cell_type": "code",
   "execution_count": 9,
   "id": "a9b2f4ae",
   "metadata": {},
   "outputs": [
    {
     "name": "stderr",
     "output_type": "stream",
     "text": [
      "\r",
      "  0%|                                                                                                                           | 0/10 [00:00<?, ?it/s]"
     ]
    },
    {
     "name": "stdout",
     "output_type": "stream",
     "text": [
      "Starting new epsilon...\n"
     ]
    },
    {
     "name": "stderr",
     "output_type": "stream",
     "text": [
      "  0%|                                                                                                                           | 0/10 [00:00<?, ?it/s]\n"
     ]
    },
    {
     "ename": "NameError",
     "evalue": "name 'task' is not defined",
     "output_type": "error",
     "traceback": [
      "\u001b[0;31m---------------------------------------------------------------------------\u001b[0m",
      "\u001b[0;31mRemoteTraceback\u001b[0m                           Traceback (most recent call last)",
      "\u001b[0;31mRemoteTraceback\u001b[0m: \n\"\"\"\nTraceback (most recent call last):\n  File \"/home/ssule25/miniconda3/lib/python3.9/site-packages/multiprocess/pool.py\", line 125, in worker\n    result = (True, func(*args, **kwds))\n  File \"/home/ssule25/miniconda3/lib/python3.9/site-packages/multiprocess/pool.py\", line 48, in mapstar\n    return list(map(*args))\n  File \"/tmp/ipykernel_10517/3082761573.py\", line 4, in task_sub\n    def task_sub(x): return task([ϵ,x], regime=\"uniform\")\nNameError: name 'task' is not defined\n\"\"\"",
      "\nThe above exception was the direct cause of the following exception:\n",
      "\u001b[0;31mNameError\u001b[0m                                 Traceback (most recent call last)",
      "Input \u001b[0;32mIn [9]\u001b[0m, in \u001b[0;36m<cell line: 1>\u001b[0;34m()\u001b[0m\n\u001b[1;32m      4\u001b[0m \u001b[38;5;28;01mdef\u001b[39;00m \u001b[38;5;21mtask_sub\u001b[39m(x): \u001b[38;5;28;01mreturn\u001b[39;00m task([ϵ,x], regime\u001b[38;5;241m=\u001b[39m\u001b[38;5;124m\"\u001b[39m\u001b[38;5;124muniform\u001b[39m\u001b[38;5;124m\"\u001b[39m)\n\u001b[1;32m      5\u001b[0m \u001b[38;5;28;01mwith\u001b[39;00m multiprocess\u001b[38;5;241m.\u001b[39mPool(multiprocess\u001b[38;5;241m.\u001b[39mcpu_count()) \u001b[38;5;28;01mas\u001b[39;00m pool: \n\u001b[0;32m----> 6\u001b[0m     result \u001b[38;5;241m=\u001b[39m \u001b[43mpool\u001b[49m\u001b[38;5;241;43m.\u001b[39;49m\u001b[43mmap\u001b[49m\u001b[43m(\u001b[49m\u001b[43mtask_sub\u001b[49m\u001b[43m,\u001b[49m\u001b[43m \u001b[49m\u001b[38;5;28;43mlist\u001b[39;49m\u001b[43m(\u001b[49m\u001b[43mtrial_ids\u001b[49m\u001b[43m)\u001b[49m\u001b[43m)\u001b[49m\n\u001b[1;32m      7\u001b[0m Lcommittor_uniform_TMD[i,:] \u001b[38;5;241m=\u001b[39m np\u001b[38;5;241m.\u001b[39marray(result)\n",
      "File \u001b[0;32m~/miniconda3/lib/python3.9/site-packages/multiprocess/pool.py:364\u001b[0m, in \u001b[0;36mPool.map\u001b[0;34m(self, func, iterable, chunksize)\u001b[0m\n\u001b[1;32m    359\u001b[0m \u001b[38;5;28;01mdef\u001b[39;00m \u001b[38;5;21mmap\u001b[39m(\u001b[38;5;28mself\u001b[39m, func, iterable, chunksize\u001b[38;5;241m=\u001b[39m\u001b[38;5;28;01mNone\u001b[39;00m):\n\u001b[1;32m    360\u001b[0m     \u001b[38;5;124;03m'''\u001b[39;00m\n\u001b[1;32m    361\u001b[0m \u001b[38;5;124;03m    Apply `func` to each element in `iterable`, collecting the results\u001b[39;00m\n\u001b[1;32m    362\u001b[0m \u001b[38;5;124;03m    in a list that is returned.\u001b[39;00m\n\u001b[1;32m    363\u001b[0m \u001b[38;5;124;03m    '''\u001b[39;00m\n\u001b[0;32m--> 364\u001b[0m     \u001b[38;5;28;01mreturn\u001b[39;00m \u001b[38;5;28;43mself\u001b[39;49m\u001b[38;5;241;43m.\u001b[39;49m\u001b[43m_map_async\u001b[49m\u001b[43m(\u001b[49m\u001b[43mfunc\u001b[49m\u001b[43m,\u001b[49m\u001b[43m \u001b[49m\u001b[43miterable\u001b[49m\u001b[43m,\u001b[49m\u001b[43m \u001b[49m\u001b[43mmapstar\u001b[49m\u001b[43m,\u001b[49m\u001b[43m \u001b[49m\u001b[43mchunksize\u001b[49m\u001b[43m)\u001b[49m\u001b[38;5;241;43m.\u001b[39;49m\u001b[43mget\u001b[49m\u001b[43m(\u001b[49m\u001b[43m)\u001b[49m\n",
      "File \u001b[0;32m~/miniconda3/lib/python3.9/site-packages/multiprocess/pool.py:771\u001b[0m, in \u001b[0;36mApplyResult.get\u001b[0;34m(self, timeout)\u001b[0m\n\u001b[1;32m    769\u001b[0m     \u001b[38;5;28;01mreturn\u001b[39;00m \u001b[38;5;28mself\u001b[39m\u001b[38;5;241m.\u001b[39m_value\n\u001b[1;32m    770\u001b[0m \u001b[38;5;28;01melse\u001b[39;00m:\n\u001b[0;32m--> 771\u001b[0m     \u001b[38;5;28;01mraise\u001b[39;00m \u001b[38;5;28mself\u001b[39m\u001b[38;5;241m.\u001b[39m_value\n",
      "\u001b[0;31mNameError\u001b[0m: name 'task' is not defined"
     ]
    }
   ],
   "source": [
    "# half parallel\n",
    "for i in tqdm.tqdm(range(epsilons_range)):\n",
    "    print(\"Starting new epsilon...\")\n",
    "    ϵ = epsilons_uniform[i]\n",
    "    def task_sub(x): return task([ϵ,x], regime=\"uniform\")\n",
    "    with multiprocess.Pool(multiprocess.cpu_count()) as pool: \n",
    "        result = pool.map(task_sub, list(trial_ids))\n",
    "    Lcommittor_uniform_TMD[i,:] = np.array(result)"
   ]
  },
  {
   "cell_type": "code",
   "execution_count": 15,
   "id": "9a69831b",
   "metadata": {},
   "outputs": [
    {
     "name": "stderr",
     "output_type": "stream",
     "text": [
      "  0%|                                                    | 0/10 [00:00<?, ?it/s]\n",
      "  0%|                                                    | 0/12 [00:00<?, ?it/s]\u001b[A\n",
      "  8%|███▋                                        | 1/12 [01:06<12:14, 66.81s/it]\u001b[A"
     ]
    },
    {
     "name": "stdout",
     "output_type": "stream",
     "text": [
      "Got result!\n"
     ]
    },
    {
     "name": "stderr",
     "output_type": "stream",
     "text": [
      "\n",
      " 17%|███████▎                                    | 2/12 [02:12<11:01, 66.14s/it]\u001b[A"
     ]
    },
    {
     "name": "stdout",
     "output_type": "stream",
     "text": [
      "Got result!\n"
     ]
    },
    {
     "name": "stderr",
     "output_type": "stream",
     "text": [
      "\n",
      " 25%|███████████                                 | 3/12 [03:18<09:53, 65.93s/it]\u001b[A"
     ]
    },
    {
     "name": "stdout",
     "output_type": "stream",
     "text": [
      "Got result!\n"
     ]
    },
    {
     "name": "stderr",
     "output_type": "stream",
     "text": [
      "\n",
      " 33%|██████████████▋                             | 4/12 [04:25<08:52, 66.53s/it]\u001b[A"
     ]
    },
    {
     "name": "stdout",
     "output_type": "stream",
     "text": [
      "Got result!\n"
     ]
    },
    {
     "name": "stderr",
     "output_type": "stream",
     "text": [
      "\n",
      " 42%|██████████████████▎                         | 5/12 [05:39<08:04, 69.19s/it]\u001b[A"
     ]
    },
    {
     "name": "stdout",
     "output_type": "stream",
     "text": [
      "Got result!\n"
     ]
    },
    {
     "name": "stderr",
     "output_type": "stream",
     "text": [
      "\n",
      " 50%|██████████████████████                      | 6/12 [06:53<07:05, 70.84s/it]\u001b[A"
     ]
    },
    {
     "name": "stdout",
     "output_type": "stream",
     "text": [
      "Got result!\n"
     ]
    },
    {
     "name": "stderr",
     "output_type": "stream",
     "text": [
      " 50%|██████████████████████                      | 6/12 [07:43<07:43, 77.20s/it]\n",
      "  0%|                                                    | 0/10 [07:43<?, ?it/s]\n"
     ]
    },
    {
     "ename": "KeyboardInterrupt",
     "evalue": "",
     "output_type": "error",
     "traceback": [
      "\u001b[0;31m---------------------------------------------------------------------------\u001b[0m",
      "\u001b[0;31mKeyboardInterrupt\u001b[0m                         Traceback (most recent call last)",
      "Input \u001b[0;32mIn [15]\u001b[0m, in \u001b[0;36m<cell line: 2>\u001b[0;34m()\u001b[0m\n\u001b[1;32m      4\u001b[0m \u001b[38;5;28;01mdef\u001b[39;00m \u001b[38;5;21mtask_sub\u001b[39m(x): \u001b[38;5;28;01mreturn\u001b[39;00m task([ϵ,x], regime\u001b[38;5;241m=\u001b[39m\u001b[38;5;124m\"\u001b[39m\u001b[38;5;124muniform\u001b[39m\u001b[38;5;124m\"\u001b[39m)\n\u001b[1;32m      5\u001b[0m \u001b[38;5;28;01mfor\u001b[39;00m j \u001b[38;5;129;01min\u001b[39;00m tqdm\u001b[38;5;241m.\u001b[39mtqdm(\u001b[38;5;28mrange\u001b[39m(ntrials)):\n\u001b[0;32m----> 6\u001b[0m     Lcommittor_uniform_TMD[i,j] \u001b[38;5;241m=\u001b[39m \u001b[43mtask_sub\u001b[49m\u001b[43m(\u001b[49m\u001b[43mtrial_ids\u001b[49m\u001b[43m[\u001b[49m\u001b[43mj\u001b[49m\u001b[43m]\u001b[49m\u001b[43m)\u001b[49m\n",
      "Input \u001b[0;32mIn [15]\u001b[0m, in \u001b[0;36mtask_sub\u001b[0;34m(x)\u001b[0m\n\u001b[0;32m----> 4\u001b[0m \u001b[38;5;28;01mdef\u001b[39;00m \u001b[38;5;21mtask_sub\u001b[39m(x): \u001b[38;5;28;01mreturn\u001b[39;00m \u001b[43mtask\u001b[49m\u001b[43m(\u001b[49m\u001b[43m[\u001b[49m\u001b[43mϵ\u001b[49m\u001b[43m,\u001b[49m\u001b[43mx\u001b[49m\u001b[43m]\u001b[49m\u001b[43m,\u001b[49m\u001b[43m \u001b[49m\u001b[43mregime\u001b[49m\u001b[38;5;241;43m=\u001b[39;49m\u001b[38;5;124;43m\"\u001b[39;49m\u001b[38;5;124;43muniform\u001b[39;49m\u001b[38;5;124;43m\"\u001b[39;49m\u001b[43m)\u001b[49m\n",
      "Input \u001b[0;32mIn [14]\u001b[0m, in \u001b[0;36mtask\u001b[0;34m(t, regime)\u001b[0m\n\u001b[1;32m     16\u001b[0m     target_measure[i] \u001b[38;5;241m=\u001b[39m mu(data[i,:])\n\u001b[1;32m     18\u001b[0m target_dmap \u001b[38;5;241m=\u001b[39m diffusion_map\u001b[38;5;241m.\u001b[39mTargetMeasureDiffusionMap(epsilon\u001b[38;5;241m=\u001b[39mϵ, n_neigh\u001b[38;5;241m=\u001b[39m\u001b[38;5;28mint\u001b[39m(N), \\\n\u001b[1;32m     19\u001b[0m                                                           target_measure\u001b[38;5;241m=\u001b[39mtarget_measure)\n\u001b[0;32m---> 20\u001b[0m \u001b[43mtarget_dmap\u001b[49m\u001b[38;5;241;43m.\u001b[39;49m\u001b[43mconstruct_generator\u001b[49m\u001b[43m(\u001b[49m\u001b[43mdata\u001b[49m\u001b[38;5;241;43m.\u001b[39;49m\u001b[43mT\u001b[49m\u001b[43m)\u001b[49m\n\u001b[1;32m     21\u001b[0m \u001b[38;5;66;03m# print(\"Got kernel!\")\u001b[39;00m\n\u001b[1;32m     22\u001b[0m K \u001b[38;5;241m=\u001b[39m target_dmap\u001b[38;5;241m.\u001b[39mget_kernel()\n",
      "File \u001b[0;32m~/Documents/TMDmaps/run/../src/diffusion_map.py:439\u001b[0m, in \u001b[0;36mTargetMeasureDiffusionMap.construct_generator\u001b[0;34m(self, data)\u001b[0m\n\u001b[1;32m    430\u001b[0m \u001b[38;5;28;01mdef\u001b[39;00m \u001b[38;5;21mconstruct_generator\u001b[39m(\u001b[38;5;28mself\u001b[39m, data):\n\u001b[1;32m    431\u001b[0m     \u001b[38;5;124mr\u001b[39m\u001b[38;5;124;03m\"\"\" Construct the generator approximation corresponding to input data\u001b[39;00m\n\u001b[1;32m    432\u001b[0m \u001b[38;5;124;03m    \u001b[39;00m\n\u001b[1;32m    433\u001b[0m \u001b[38;5;124;03m    Parameters\u001b[39;00m\n\u001b[0;32m   (...)\u001b[0m\n\u001b[1;32m    436\u001b[0m \u001b[38;5;124;03m    \u001b[39;00m\n\u001b[1;32m    437\u001b[0m \u001b[38;5;124;03m    \"\"\"\u001b[39;00m  \n\u001b[0;32m--> 439\u001b[0m     K \u001b[38;5;241m=\u001b[39m \u001b[38;5;28;43mself\u001b[39;49m\u001b[38;5;241;43m.\u001b[39;49m\u001b[43m_construct_kernel\u001b[49m\u001b[43m(\u001b[49m\u001b[43mdata\u001b[49m\u001b[43m)\u001b[49m\n\u001b[1;32m    440\u001b[0m     N \u001b[38;5;241m=\u001b[39m K\u001b[38;5;241m.\u001b[39mshape[\u001b[38;5;241m-\u001b[39m\u001b[38;5;241m1\u001b[39m]\n\u001b[1;32m    442\u001b[0m     \u001b[38;5;66;03m# Make right normalizing vector, first with kernel density estimate\u001b[39;00m\n",
      "File \u001b[0;32m~/Documents/TMDmaps/run/../src/diffusion_map.py:114\u001b[0m, in \u001b[0;36mDiffusionMap._construct_kernel\u001b[0;34m(self, data)\u001b[0m\n\u001b[1;32m     95\u001b[0m \u001b[38;5;28;01mdef\u001b[39;00m \u001b[38;5;21m_construct_kernel\u001b[39m(\u001b[38;5;28mself\u001b[39m, data):\n\u001b[1;32m     96\u001b[0m     \u001b[38;5;124mr\u001b[39m\u001b[38;5;124;03m\"\"\"Construct kernel matrix of a given data set\u001b[39;00m\n\u001b[1;32m     97\u001b[0m \n\u001b[1;32m     98\u001b[0m \u001b[38;5;124;03m    Takes an input data set with structure num_features x\u001b[39;00m\n\u001b[0;32m   (...)\u001b[0m\n\u001b[1;32m    111\u001b[0m \n\u001b[1;32m    112\u001b[0m \u001b[38;5;124;03m    \"\"\"\u001b[39;00m  \n\u001b[0;32m--> 114\u001b[0m     K \u001b[38;5;241m=\u001b[39m \u001b[38;5;28;43mself\u001b[39;49m\u001b[38;5;241;43m.\u001b[39;49m\u001b[43m_compute_knn_sq_dists\u001b[49m\u001b[43m(\u001b[49m\u001b[43mdata\u001b[49m\u001b[43m)\u001b[49m\n\u001b[1;32m    116\u001b[0m     \u001b[38;5;66;03m# Construct kernel from data matrix\u001b[39;00m\n\u001b[1;32m    117\u001b[0m     K\u001b[38;5;241m.\u001b[39mdata \u001b[38;5;241m=\u001b[39m np\u001b[38;5;241m.\u001b[39mexp(\u001b[38;5;241m-\u001b[39mK\u001b[38;5;241m.\u001b[39mdata \u001b[38;5;241m/\u001b[39m (\u001b[38;5;28mself\u001b[39m\u001b[38;5;241m.\u001b[39mepsilon))\n",
      "File \u001b[0;32m~/Documents/TMDmaps/run/../src/diffusion_map.py:238\u001b[0m, in \u001b[0;36mDiffusionMap._compute_knn_sq_dists\u001b[0;34m(self, data)\u001b[0m\n\u001b[1;32m    235\u001b[0m \u001b[38;5;66;03m# Compute epsilon from square distance data\u001b[39;00m\n\u001b[1;32m    236\u001b[0m \u001b[38;5;28mself\u001b[39m\u001b[38;5;241m.\u001b[39mchoose_epsilon(sq_dists)\n\u001b[0;32m--> 238\u001b[0m \u001b[43mknn_sq_dists\u001b[49m\u001b[38;5;241;43m.\u001b[39;49m\u001b[43msort_indices\u001b[49m\u001b[43m(\u001b[49m\u001b[43m)\u001b[49m\n\u001b[1;32m    239\u001b[0m \u001b[38;5;28mself\u001b[39m\u001b[38;5;241m.\u001b[39msq_dists \u001b[38;5;241m=\u001b[39m knn_sq_dists \n\u001b[1;32m    240\u001b[0m \u001b[38;5;28;01mreturn\u001b[39;00m knn_sq_dists\n",
      "File \u001b[0;32m~/miniconda3/lib/python3.9/site-packages/scipy/sparse/compressed.py:1152\u001b[0m, in \u001b[0;36m_cs_matrix.sort_indices\u001b[0;34m(self)\u001b[0m\n\u001b[1;32m   1148\u001b[0m \u001b[38;5;124;03m\"\"\"Sort the indices of this matrix *in place*\u001b[39;00m\n\u001b[1;32m   1149\u001b[0m \u001b[38;5;124;03m\"\"\"\u001b[39;00m\n\u001b[1;32m   1151\u001b[0m \u001b[38;5;28;01mif\u001b[39;00m \u001b[38;5;129;01mnot\u001b[39;00m \u001b[38;5;28mself\u001b[39m\u001b[38;5;241m.\u001b[39mhas_sorted_indices:\n\u001b[0;32m-> 1152\u001b[0m     \u001b[43m_sparsetools\u001b[49m\u001b[38;5;241;43m.\u001b[39;49m\u001b[43mcsr_sort_indices\u001b[49m\u001b[43m(\u001b[49m\u001b[38;5;28;43mlen\u001b[39;49m\u001b[43m(\u001b[49m\u001b[38;5;28;43mself\u001b[39;49m\u001b[38;5;241;43m.\u001b[39;49m\u001b[43mindptr\u001b[49m\u001b[43m)\u001b[49m\u001b[43m \u001b[49m\u001b[38;5;241;43m-\u001b[39;49m\u001b[43m \u001b[49m\u001b[38;5;241;43m1\u001b[39;49m\u001b[43m,\u001b[49m\u001b[43m \u001b[49m\u001b[38;5;28;43mself\u001b[39;49m\u001b[38;5;241;43m.\u001b[39;49m\u001b[43mindptr\u001b[49m\u001b[43m,\u001b[49m\n\u001b[1;32m   1153\u001b[0m \u001b[43m                                  \u001b[49m\u001b[38;5;28;43mself\u001b[39;49m\u001b[38;5;241;43m.\u001b[39;49m\u001b[43mindices\u001b[49m\u001b[43m,\u001b[49m\u001b[43m \u001b[49m\u001b[38;5;28;43mself\u001b[39;49m\u001b[38;5;241;43m.\u001b[39;49m\u001b[43mdata\u001b[49m\u001b[43m)\u001b[49m\n\u001b[1;32m   1154\u001b[0m     \u001b[38;5;28mself\u001b[39m\u001b[38;5;241m.\u001b[39mhas_sorted_indices \u001b[38;5;241m=\u001b[39m \u001b[38;5;28;01mTrue\u001b[39;00m\n",
      "\u001b[0;31mKeyboardInterrupt\u001b[0m: "
     ]
    }
   ],
   "source": [
    "# no parallel \n",
    "for i in tqdm.tqdm(range(epsilons_range)):\n",
    "    ϵ = epsilons[i]\n",
    "    def task_sub(x): return task([ϵ,x], regime=\"uniform\")\n",
    "    for j in tqdm.tqdm(range(ntrials)):\n",
    "        Lcommittor_uniform_TMD[i,j] = task_sub(trial_ids[j])"
   ]
  },
  {
   "cell_type": "markdown",
   "id": "779d6fae",
   "metadata": {},
   "source": [
    "# Load generated data"
   ]
  },
  {
   "cell_type": "code",
   "execution_count": 70,
   "id": "b965f7d6",
   "metadata": {},
   "outputs": [],
   "source": [
    "data = np.load('uniform_trigpoly__2023-04-18 16:48:35.291352.npy', allow_pickle=True)"
   ]
  },
  {
   "cell_type": "code",
   "execution_count": 71,
   "id": "af379915",
   "metadata": {},
   "outputs": [],
   "source": [
    "# run this for second gen dataset \n",
    "epsilons = data.item()['epsilons']\n",
    "bias = data.item()['pointwise_errors']\n",
    "epsilons_range, ntrials = bias.shape"
   ]
  },
  {
   "cell_type": "code",
   "execution_count": 59,
   "id": "23031af0",
   "metadata": {},
   "outputs": [],
   "source": [
    "bias = data\n",
    "epsilons = np.linspace(0.04, 0.06, 10)  # actual sim "
   ]
  },
  {
   "cell_type": "code",
   "execution_count": 72,
   "id": "9df4ff08",
   "metadata": {},
   "outputs": [
    {
     "data": {
      "text/plain": [
       "<matplotlib.collections.PathCollection at 0x13ec7aa00>"
      ]
     },
     "execution_count": 72,
     "metadata": {},
     "output_type": "execute_result"
    },
    {
     "data": {
      "image/png": "[encoded data removed]",
      "text/plain": [
       "<Figure size 432x288 with 1 Axes>"
      ]
     },
     "metadata": {
      "needs_background": "light"
     },
     "output_type": "display_data"
    }
   ],
   "source": [
    "plt.scatter(epsilons.reshape((epsilons_range,1))@np.ones((1,ntrials)), np.abs(bias))"
   ]
  },
  {
   "cell_type": "code",
   "execution_count": 73,
   "id": "345c4c89",
   "metadata": {},
   "outputs": [],
   "source": [
    "# fit linear model\n",
    "x = epsilons.reshape((epsilons_range,1))@np.ones((1,ntrials))\n",
    "linear_fit = sklearn.linear_model.LinearRegression()\n",
    "linear_fit.fit(x.reshape(-1,1), np.abs(bias).reshape(-1,1))\n",
    "y = linear_fit.predict(epsilons.reshape(-1,1))"
   ]
  },
  {
   "cell_type": "code",
   "execution_count": 74,
   "id": "f2914b9b",
   "metadata": {},
   "outputs": [
    {
     "data": {
      "text/plain": [
       "[<matplotlib.lines.Line2D at 0x13ed72e20>]"
      ]
     },
     "execution_count": 74,
     "metadata": {},
     "output_type": "execute_result"
    },
    {
     "data": {
      "image/png": "[encoded data removed]",
      "text/plain": [
       "<Figure size 432x288 with 1 Axes>"
      ]
     },
     "metadata": {
      "needs_background": "light"
     },
     "output_type": "display_data"
    }
   ],
   "source": [
    "fig, ax = plt.subplots()\n",
    "ax.scatter(x,np.abs(bias))\n",
    "ax.plot(epsilons,y)"
   ]
  },
  {
   "cell_type": "code",
   "execution_count": 75,
   "id": "2ff020e4",
   "metadata": {},
   "outputs": [
    {
     "data": {
      "text/plain": [
       "array([[3.94523548]])"
      ]
     },
     "execution_count": 75,
     "metadata": {},
     "output_type": "execute_result"
    }
   ],
   "source": [
    "linear_fit.coef_"
   ]
  },
  {
   "cell_type": "code",
   "execution_count": null,
   "id": "2d7f6881",
   "metadata": {},
   "outputs": [],
   "source": []
  }
 ],
 "metadata": {
  "kernelspec": {
   "display_name": "Python 3 (ipykernel)",
   "language": "python",
   "name": "python3"
  },
  "language_info": {
   "codemirror_mode": {
    "name": "ipython",
    "version": 3
   },
   "file_extension": ".py",
   "mimetype": "text/x-python",
   "name": "python",
   "nbconvert_exporter": "python",
   "pygments_lexer": "ipython3",
   "version": "3.9.13"
  }
 },
 "nbformat": 4,
 "nbformat_minor": 5
}
