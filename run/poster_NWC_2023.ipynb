{
 "cells": [
  {
   "cell_type": "code",
   "execution_count": 1,
   "id": "6e62e1fd",
   "metadata": {},
   "outputs": [],
   "source": [
    "import numpy as np \n",
    "import scipy.sparse as sps\n",
    "from sklearn.neighbors import NearestNeighbors\n",
    "import matplotlib.pyplot as plt\n",
    "from scipy.spatial.distance import cdist\n",
    "import scipy \n",
    "import os\n",
    "import datetime\n",
    "# import copy\n",
    "# import sys \n",
    "# sys.path.insert(0, os.path.abspath(os.path.join(os.path.dirname(__file__),'..')))\n",
    "import argparse"
   ]
  },
  {
   "cell_type": "code",
   "execution_count": 4,
   "id": "a82aebc5",
   "metadata": {},
   "outputs": [],
   "source": [
    "dir_name = os.path.abspath(os.path.join(os.path.dirname(\"__file__\"),'..'))"
   ]
  },
  {
   "cell_type": "code",
   "execution_count": 5,
   "id": "2c60eab4",
   "metadata": {},
   "outputs": [
    {
     "data": {
      "text/plain": [
       "'/Users/shashanksule/Documents/TMDmaps'"
      ]
     },
     "execution_count": 5,
     "metadata": {},
     "output_type": "execute_result"
    }
   ],
   "source": [
    "dir_name"
   ]
  },
  {
   "cell_type": "code",
   "execution_count": 6,
   "id": "f5088b06",
   "metadata": {},
   "outputs": [
    {
     "ename": "FileNotFoundError",
     "evalue": "[Errno 2] No such file or directory: '/Users/shashanksule/Documents/TMDmaps/data/butane/butane_metad.npz'",
     "output_type": "error",
     "traceback": [
      "\u001b[0;31m---------------------------------------------------------------------------\u001b[0m",
      "\u001b[0;31mFileNotFoundError\u001b[0m                         Traceback (most recent call last)",
      "Input \u001b[0;32mIn [6]\u001b[0m, in \u001b[0;36m<cell line: 3>\u001b[0;34m()\u001b[0m\n\u001b[1;32m      1\u001b[0m \u001b[38;5;66;03m# Load data\u001b[39;00m\n\u001b[1;32m      2\u001b[0m fname \u001b[38;5;241m=\u001b[39m dir_name \u001b[38;5;241m+\u001b[39m \u001b[38;5;124m\"\u001b[39m\u001b[38;5;124m/data/butane/butane_metad.npz\u001b[39m\u001b[38;5;124m\"\u001b[39m\n\u001b[0;32m----> 3\u001b[0m inData \u001b[38;5;241m=\u001b[39m \u001b[43mnp\u001b[49m\u001b[38;5;241;43m.\u001b[39;49m\u001b[43mload\u001b[49m\u001b[43m(\u001b[49m\u001b[43mfname\u001b[49m\u001b[43m)\u001b[49m\n\u001b[1;32m      4\u001b[0m \u001b[38;5;28mprint\u001b[39m(\u001b[38;5;124m\"\u001b[39m\u001b[38;5;124mKeys in data:\u001b[39m\u001b[38;5;124m\"\u001b[39m)\n\u001b[1;32m      5\u001b[0m \u001b[38;5;28mprint\u001b[39m(\u001b[38;5;28mlist\u001b[39m(inData\u001b[38;5;241m.\u001b[39mkeys()))\n",
      "File \u001b[0;32m~/miniforge3/lib/python3.9/site-packages/numpy/lib/npyio.py:417\u001b[0m, in \u001b[0;36mload\u001b[0;34m(file, mmap_mode, allow_pickle, fix_imports, encoding)\u001b[0m\n\u001b[1;32m    415\u001b[0m     own_fid \u001b[38;5;241m=\u001b[39m \u001b[38;5;28;01mFalse\u001b[39;00m\n\u001b[1;32m    416\u001b[0m \u001b[38;5;28;01melse\u001b[39;00m:\n\u001b[0;32m--> 417\u001b[0m     fid \u001b[38;5;241m=\u001b[39m stack\u001b[38;5;241m.\u001b[39menter_context(\u001b[38;5;28;43mopen\u001b[39;49m\u001b[43m(\u001b[49m\u001b[43mos_fspath\u001b[49m\u001b[43m(\u001b[49m\u001b[43mfile\u001b[49m\u001b[43m)\u001b[49m\u001b[43m,\u001b[49m\u001b[43m \u001b[49m\u001b[38;5;124;43m\"\u001b[39;49m\u001b[38;5;124;43mrb\u001b[39;49m\u001b[38;5;124;43m\"\u001b[39;49m\u001b[43m)\u001b[49m)\n\u001b[1;32m    418\u001b[0m     own_fid \u001b[38;5;241m=\u001b[39m \u001b[38;5;28;01mTrue\u001b[39;00m\n\u001b[1;32m    420\u001b[0m \u001b[38;5;66;03m# Code to distinguish from NumPy binary files and pickles.\u001b[39;00m\n",
      "\u001b[0;31mFileNotFoundError\u001b[0m: [Errno 2] No such file or directory: '/Users/shashanksule/Documents/TMDmaps/data/butane/butane_metad.npz'"
     ]
    }
   ],
   "source": [
    "# Load data\n",
    "fname = dir_name + \"/data/butane/butane_metad.npz\"\n",
    "inData = np.load(fname)\n",
    "print(\"Keys in data:\")\n",
    "print(list(inData.keys()))\n",
    "\n",
    "data = inData[\"data\"]\n",
    "#data = inData[\"data_all_atom\"]\n",
    "\n",
    "print(\"Data shape from trajectory:\")\n",
    "print(data.shape)\n",
    "dihedrals = inData[\"dihedrals\"]\n",
    "potential = inData[\"potential\"]\n",
    "kbT = inData[\"kbT\"]\n",
    "print(f\"kbT for data:{kbT}\")\n",
    "kbT_roomtemp = inData[\"kbT_roomtemp\"]\n",
    "\n",
    "print(f\"kbT for room temperature:{kbT_roomtemp}\")\n",
    "\n",
    "# Load up delta net indices\n",
    "fname = dir_name + \"/data/butane/butane_metad_deltanet.npz\"\n",
    "delta_idx = np.load(fname)[\"delta_idx\"]\n",
    "\n",
    "# Define Target Measure\n",
    "target_measure = np.exp(-potential/(kbT_roomtemp))\n",
    "\n",
    "# Subsample dataset (in time or in space(deltanet) )\n",
    "indices = np.arange(data.shape[0])\n",
    "#sub_indices = indices[::18]\n",
    "sub_indices = delta_idx\n",
    "#sub_indices = indices\n",
    "\n",
    "new_data = data[sub_indices, :]"
   ]
  },
  {
   "cell_type": "code",
   "execution_count": null,
   "id": "46c14784",
   "metadata": {},
   "outputs": [],
   "source": []
  }
 ],
 "metadata": {
  "kernelspec": {
   "display_name": "Python 3 (ipykernel)",
   "language": "python",
   "name": "python3"
  },
  "language_info": {
   "codemirror_mode": {
    "name": "ipython",
    "version": 3
   },
   "file_extension": ".py",
   "mimetype": "text/x-python",
   "name": "python",
   "nbconvert_exporter": "python",
   "pygments_lexer": "ipython3",
   "version": "3.9.13"
  }
 },
 "nbformat": 4,
 "nbformat_minor": 5
}
