{
 "cells": [
  {
   "cell_type": "code",
   "execution_count": 2,
   "id": "6e62e1fd",
   "metadata": {},
   "outputs": [],
   "source": [
    "import numpy as np \n",
    "import scipy.sparse as sps\n",
    "from sklearn.neighbors import NearestNeighbors\n",
    "import matplotlib.pyplot as plt\n",
    "from scipy.spatial.distance import cdist\n",
    "import scipy \n",
    "import os\n",
    "import datetime\n",
    "# import copy\n",
    "# import sys \n",
    "# sys.path.insert(0, os.path.abspath(os.path.join(os.path.dirname(__file__),'..')))\n",
    "import argparse"
   ]
  },
  {
   "cell_type": "code",
   "execution_count": 3,
   "id": "2640f08b",
   "metadata": {},
   "outputs": [],
   "source": [
    "font = {'family' : 'Helvetica',\n",
    "        'weight' : 'normal',\n",
    "        'size'   : 20}\n",
    "plt.rc('font', **font)"
   ]
  },
  {
   "cell_type": "code",
   "execution_count": 4,
   "id": "13d51b00",
   "metadata": {},
   "outputs": [],
   "source": [
    "def epsilon_net(data, ϵ):\n",
    "\n",
    "    #initialize the net\n",
    "    np.random.seed()\n",
    "    dense = True # parameter that checks whether the net is still dense\n",
    "    # ϵ = 0.005\n",
    "    iter = 0 \n",
    "    ϵ_net = np.array(range(data.shape[1]))\n",
    "    original_index = np.random.randint(0,data.shape[1])\n",
    "    # current_point_index = ϵ_net[0]\n",
    "    current_point_index = original_index\n",
    "    \n",
    "    #fill the net\n",
    "\n",
    "    while dense:\n",
    "        current_point = data[:,current_point_index] # set current point\n",
    "        ϵ_ball = np.where(np.linalg.norm(data - np.tile(current_point.reshape(current_point.shape[0],1), \n",
    "                                                        (1,data.shape[1])), axis=0) <= ϵ)[0] # get indices for ϵ-ball\n",
    "        ϵ_net = np.delete(ϵ_net, np.where(np.isin(ϵ_net, ϵ_ball))) # kill elements of the ϵ-ball from the net\n",
    "        ϵ_net = np.append(ϵ_net, current_point_index) # add the current point at the BACK OF THE QUEUE. THIS IS KEY\n",
    "        current_point_index = ϵ_net[0] # set current point for killing an epsilon ball in the next iteration\n",
    "        if current_point_index == original_index: # if the current point is the initial one, we are done! \n",
    "            dense = False\n",
    "    return ϵ_net, data[:,ϵ_net]"
   ]
  },
  {
   "cell_type": "code",
   "execution_count": 5,
   "id": "a82aebc5",
   "metadata": {},
   "outputs": [],
   "source": [
    "dir_name = os.path.abspath(os.path.join(os.path.dirname(\"__file__\"),'..'))"
   ]
  },
  {
   "cell_type": "code",
   "execution_count": 6,
   "id": "2c60eab4",
   "metadata": {},
   "outputs": [
    {
     "data": {
      "text/plain": [
       "'/Users/shashanksule/Documents/TMDmaps'"
      ]
     },
     "execution_count": 6,
     "metadata": {},
     "output_type": "execute_result"
    }
   ],
   "source": [
    "dir_name"
   ]
  },
  {
   "cell_type": "code",
   "execution_count": 7,
   "id": "f5088b06",
   "metadata": {},
   "outputs": [
    {
     "name": "stdout",
     "output_type": "stream",
     "text": [
      "Keys in data:\n",
      "['data', 'data_all_atom', 'dihedrals', 'potential', 'kbT', 'kbT_roomtemp', 'free_energy', 'biasFactor', 'biasWidth', 'height', 'frequency']\n",
      "Data shape from trajectory:\n",
      "(200000, 12)\n",
      "kbT for data:2.494338785445972\n",
      "kbT for room temperature:2.494338785445972\n"
     ]
    }
   ],
   "source": [
    "# Load data\n",
    "fname = os.getcwd() + \"/butane_metad.npz\"\n",
    "inData = np.load(fname)\n",
    "print(\"Keys in data:\")\n",
    "print(list(inData.keys()))\n",
    "\n",
    "data = inData[\"data\"]\n",
    "#data = inData[\"data_all_atom\"]\n",
    "\n",
    "print(\"Data shape from trajectory:\")\n",
    "print(data.shape)\n",
    "dihedrals = inData[\"dihedrals\"]\n",
    "potential = inData[\"potential\"]\n",
    "kbT = inData[\"kbT\"]\n",
    "print(f\"kbT for data:{kbT}\")\n",
    "kbT_roomtemp = inData[\"kbT_roomtemp\"]\n",
    "\n",
    "print(f\"kbT for room temperature:{kbT_roomtemp}\")\n",
    "\n",
    "# Load up delta net indices\n",
    "fname = dir_name + \"/data/butane/butane_metad_deltanet.npz\"\n",
    "delta_idx = np.load(fname)[\"delta_idx\"]\n",
    "\n",
    "# Define Target Measure\n",
    "target_measure = np.exp(-potential/(kbT_roomtemp))\n",
    "\n",
    "# Subsample dataset (in time or in space(deltanet) )\n",
    "indices = np.arange(data.shape[0])\n",
    "#sub_indices = indices[::18]\n",
    "sub_indices = delta_idx\n",
    "#sub_indices = indices\n",
    "\n",
    "new_data = data[sub_indices, :]\n",
    "new_dihedrals = dihedrals[sub_indices]"
   ]
  },
  {
   "cell_type": "code",
   "execution_count": 8,
   "id": "a1fbe0ad",
   "metadata": {},
   "outputs": [],
   "source": [
    "subsampled_data = data[::20,:]\n",
    "subsampled_dihedrals = dihedrals[::20]"
   ]
  },
  {
   "cell_type": "code",
   "execution_count": 9,
   "id": "484fc07c",
   "metadata": {},
   "outputs": [],
   "source": [
    "delta_net, _ = epsilon_net(subsampled_dihedrals.reshape(subsampled_dihedrals.shape[0],1).T, 0.002)"
   ]
  },
  {
   "cell_type": "code",
   "execution_count": 11,
   "id": "16903e6d",
   "metadata": {},
   "outputs": [
    {
     "data": {
      "image/png": "[encoded data removed]",
      "text/plain": [
       "<Figure size 576x576 with 1 Axes>"
      ]
     },
     "metadata": {
      "needs_background": "light"
     },
     "output_type": "display_data"
    }
   ],
   "source": [
    "fig,ax = plt.subplots(figsize=(8,8))\n",
    "ax.hist(subsampled_dihedrals, bins=50, density=True, label='Metadynamics', color = 'blue', alpha=0.5)\n",
    "ax.hist(subsampled_dihedrals[delta_net], bins=40, density=True, label='Metad. + delta-net', alpha=0.5, color ='red')\n",
    "ax.set_ylabel('Density')\n",
    "ax.set_xlabel('Dihedral angle')\n",
    "ax.set_title(\"Attaining uniform densities \\n with $\\delta$-nets\")\n",
    "ax.legend()\n",
    "fig.savefig('butane_metadvdeltanet.pdf', bbox_inches='tight', format='pdf')"
   ]
  },
  {
   "cell_type": "code",
   "execution_count": null,
   "id": "29ab31a2",
   "metadata": {},
   "outputs": [],
   "source": []
  }
 ],
 "metadata": {
  "kernelspec": {
   "display_name": "Python 3 (ipykernel)",
   "language": "python",
   "name": "python3"
  },
  "language_info": {
   "codemirror_mode": {
    "name": "ipython",
    "version": 3
   },
   "file_extension": ".py",
   "mimetype": "text/x-python",
   "name": "python",
   "nbconvert_exporter": "python",
   "pygments_lexer": "ipython3",
   "version": "3.9.13"
  }
 },
 "nbformat": 4,
 "nbformat_minor": 5
}
