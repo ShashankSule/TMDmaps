{
 "cells": [
  {
   "cell_type": "code",
   "execution_count": 1,
   "id": "83f5491b",
   "metadata": {},
   "outputs": [],
   "source": [
    "# from google.colab import drive\n",
    "# drive.mount('/content/drive')\n",
    "\n",
    "import os\n",
    "import copy\n",
    "\n",
    "# os.chdir('/content/drive/MyDrive/Colab Notebooks/Shashank')\n",
    "\n",
    "# os.chdir('/Users/shashanksule/Documents/TMDmaps')\n",
    "# Regular Modules\n",
    "import numpy as np\n",
    "import sklearn as sklearn\n",
    "import matplotlib.pyplot as plt\n",
    "import datetime\n",
    "import scipy.integrate as scint\n",
    "#from numpy.random import default_rng\n",
    "import numpy.ma as ma\n",
    "import matplotlib.tri as tri\n",
    "import scipy.io\n",
    "import time \n",
    "from mpl_toolkits.mplot3d import axes3d\n",
    "# parallelization modules \n",
    "\n",
    "from math import nan\n",
    "from joblib import Parallel, delayed\n",
    "import multiprocessing\n",
    "import itertools\n",
    "\n"
   ]
  },
  {
   "cell_type": "markdown",
   "id": "dd25ae67",
   "metadata": {},
   "source": [
    "# Load data"
   ]
  },
  {
   "cell_type": "code",
   "execution_count": 74,
   "id": "8e794ff5",
   "metadata": {},
   "outputs": [],
   "source": [
    "gibbs_data = np.load(\"muller_metadynamics.npy\", allow_pickle=True).item()\n",
    "args = gibbs_data['args']\n",
    "results = gibbs_data['sim_results']\n",
    "errors = results['error_tensor'][:,:,0,0]\n",
    "sestimates = results['singer_estimates'][:,:,0,0]"
   ]
  },
  {
   "cell_type": "code",
   "execution_count": 110,
   "id": "95574f31",
   "metadata": {},
   "outputs": [
    {
     "data": {
      "text/plain": [
       "[<matplotlib.lines.Line2D at 0x151e22a30>]"
      ]
     },
     "execution_count": 110,
     "metadata": {},
     "output_type": "execute_result"
    },
    {
     "data": {
      "image/png": "[encoded data removed]",
      "text/plain": [
       "<Figure size 432x288 with 1 Axes>"
      ]
     },
     "metadata": {
      "needs_background": "light"
     },
     "output_type": "display_data"
    }
   ],
   "source": [
    "fig, ax = plt.subplots()\n",
    "ax.set(xscale=\"log\")\n",
    "ax.plot(args['epsilons'][13:19], np.log(errors[13:19,1]), marker=\"o\")\n",
    "#ax.set(ylim=(0,0.05))"
   ]
  }
 ],
 "metadata": {
  "kernelspec": {
   "display_name": "Python 3 (ipykernel)",
   "language": "python",
   "name": "python3"
  },
  "language_info": {
   "codemirror_mode": {
    "name": "ipython",
    "version": 3
   },
   "file_extension": ".py",
   "mimetype": "text/x-python",
   "name": "python",
   "nbconvert_exporter": "python",
   "pygments_lexer": "ipython3",
   "version": "3.9.13"
  }
 },
 "nbformat": 4,
 "nbformat_minor": 5
}
