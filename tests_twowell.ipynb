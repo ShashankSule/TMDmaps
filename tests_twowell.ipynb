{
 "cells": [
  {
   "cell_type": "code",
   "execution_count": 2,
   "metadata": {},
   "outputs": [],
   "source": [
    "# from google.colab import drive\n",
    "# drive.mount('/content/drive')\n",
    "\n",
    "import os\n",
    "import copy\n",
    "\n",
    "# os.chdir('/content/drive/MyDrive/Colab Notebooks/Shashank')\n",
    "\n",
    "os.chdir('/Users/shashanksule/Documents/TMDmaps')\n",
    "# Regular Modules\n",
    "import numpy as np\n",
    "import sklearn as sklearn\n",
    "import matplotlib.pyplot as plt\n",
    "import datetime\n",
    "import scipy.integrate as scint\n",
    "#from numpy.random import default_rng\n",
    "import numpy.ma as ma\n",
    "import matplotlib.tri as tri\n",
    "import scipy.io\n",
    "import time \n",
    "from mpl_toolkits.mplot3d import axes3d\n",
    "# parallelization modules \n",
    "\n",
    "from math import nan\n",
    "from joblib import Parallel, delayed\n",
    "import multiprocessing\n",
    "import itertools\n",
    "\n",
    "# # My Modules\n",
    "import helpers as helpers\n",
    "import model_systems as model_systems\n",
    "import diffusion_map as dmap"
   ]
  },
  {
   "cell_type": "code",
   "execution_count": 3,
   "metadata": {},
   "outputs": [],
   "source": [
    "# Load FEM solution \n",
    "inData = scipy.io.loadmat(\"DistmeshTwowell_1.mat\")\n",
    "fem_committor = inData['committor']\n",
    "fem_grid = inData['pts']\n",
    "\n",
    "# Load gibbs density data\n",
    "inData = scipy.io.loadmat(\"Twowell_data_metadynamics_longsample_beta_0.66.mat\")\n",
    "data = inData['samples']\n",
    "data = data.T\n",
    "N = data.shape[1]\n",
    "\n",
    "# get eps range \n",
    "eps_vals = 2.0**np.arange(-10, 4, 0.5)\n",
    "delta_vals = np.linspace(1e-6, 1e-1, 10)[:2]\n",
    "knn_vals = 2**np.arange(10,6,-5)\n",
    "vbdry_vals = np.arange(1, -50, -60)\n",
    "num_idx = eps_vals.shape[0]\n",
    "num_delta = delta_vals.shape[0]\n",
    "num_knn = knn_vals.shape[0]\n",
    "num_vbdry = vbdry_vals.shape[0]\n",
    "error_data_FEM_TMD = np.zeros((num_idx, num_delta, num_knn, num_vbdry))"
   ]
  },
  {
   "cell_type": "code",
   "execution_count": 5,
   "metadata": {},
   "outputs": [],
   "source": [
    "def onepass(t):\n",
    "        # define a pass\n",
    "        i,j,k,l = t # t is a tuple of iterates \n",
    "        eps = eps_vals[i] # Current epsilon \n",
    "        delta = delta_vals[j] # Current delta net resolution \n",
    "        n_neigh = knn_vals[k] # Current knn values \n",
    "        vbdry = vbdry_vals[l] # Current vbdry term\n",
    "        ϵ_net = helpers.epsilon_net(data, delta)[0] # set up \\delta net\n",
    "        N = np.size(ϵ_net) # number of points in net\n",
    "        if n_neigh > N:\n",
    "                n_neigh = N-2\n",
    "        print(\"Computing for parameters: \", eps, delta, n_neigh, vbdry, end = \"...\")\n",
    "        err_boolz = helpers.throwing_pts_twowell(data, vbdry) # set up error points based on vbdry \n",
    "        error_bool = err_boolz['error_bool']\n",
    "        A_bool = err_boolz['A_bool']\n",
    "        B_bool = err_boolz['B_bool']\n",
    "        C_bool = err_boolz['C_bool']\n",
    "        data_current = data[:, ϵ_net] # solve TMD for points in \n",
    "        A_bool_current = A_bool[ϵ_net]\n",
    "        B_bool_current = B_bool[ϵ_net]\n",
    "        C_bool_current = C_bool[ϵ_net]\n",
    "        error_bool_current = error_bool[ϵ_net]\n",
    "        # Compute target measure \n",
    "        def V(x): return model_systems.twowell_potential(x)\n",
    "        target_measure = np.zeros(N)\n",
    "\n",
    "        #!!!!!! define target density here, by default its to a different temperature of gibbs\n",
    "        target_beta = 1.0  \n",
    "        for m in range(N):\n",
    "                target_measure[m] = np.exp(-target_beta*V(data_current[:, m]))/helpers.twowellbeta\n",
    "\n",
    "        ##### Compute some sort of diffusion map \n",
    "        target_dmap = dmap.TargetMeasureDiffusionMap(epsilon=eps,\n",
    "                                                n_neigh=n_neigh, target_measure=target_measure)\n",
    "\n",
    "        # Can use regular diffusion map if the 'target measure' is the same as the gibbs density the data came from\n",
    "        #reg_dmap = dmap.DiffusionMap(epsilon=eps, alpha=0.5,\n",
    "        #                                          n_neigh=n_neigh, target_measure=target_measure)\n",
    "\n",
    "        target_dmap.construct_generator(data_current)\n",
    "        K = target_dmap.get_kernel()\n",
    "        L = target_dmap.get_generator()\n",
    "        try:\n",
    "                q = target_dmap.construct_committor(L, B_bool_current, C_bool_current);\n",
    "        except BaseException as e: \n",
    "                print(e)\n",
    "                error_data_FEM_TMD[i,j,k,l] = 1e10\n",
    "        else:\n",
    "                q = target_dmap.construct_committor(L, B_bool_current, C_bool_current)\n",
    "                fem_error_bool = helpers.throwing_pts_twowell(fem_grid.T, vbdry)['error_bool']\n",
    "                fem_committor_vbdry = fem_committor[fem_error_bool] # comment this out if you don't want error data over thrown points\n",
    "                rev_interpolant = scipy.interpolate.griddata(data_current.T, q, fem_grid, method='linear')[fem_error_bool]\n",
    "                rev_interpolant_refined = np.delete(rev_interpolant, np.where(np.isnan(rev_interpolant)))\n",
    "                fem_interpolant_refined = np.delete(fem_committor_vbdry, np.where(np.isnan(rev_interpolant)))\n",
    "                if sum(fem_error_bool) < N*0.06:\n",
    "                        error_data_FEM_TMD[i,j,k,l] = 1e10\n",
    "                else:\n",
    "                        try:\n",
    "                                error_data_FEM_TMD[i,j,k,l] = helpers.RMSerror(rev_interpolant_refined, fem_interpolant_refined)\n",
    "                        except:\n",
    "                                error_data_FEM_TMD[i,j,k,l] = 1e10 \n",
    "                        else:\n",
    "                                error_data_FEM_TMD[i,j,k,l] = helpers.RMSerror(rev_interpolant_refined, fem_interpolant_refined)\n",
    "                print(error_data_FEM_TMD[i,j,k,l])\n"
   ]
  },
  {
   "cell_type": "code",
   "execution_count": 6,
   "metadata": {},
   "outputs": [
    {
     "name": "stdout",
     "output_type": "stream",
     "text": [
      "Data checks out. Computing now...\n",
      "Computing for parameters:  0.0009765625 1e-06 1024 1..."
     ]
    }
   ],
   "source": [
    "# parallelize and compute \n",
    "print(\"Data checks out. Computing now...\")\n",
    "iters = itertools.product(range(num_idx), range(num_delta), range(num_knn), range(num_vbdry))\n",
    "# delayeds = [delayed(onepass)(i) for i in iters]\n",
    "# num_cores = multiprocessing.cpu_count()\n",
    "# parallels = Parallel(n_jobs = num_cores, require='sharedmem')\n",
    "# try: \n",
    "#     outputs = parallels(delayeds)\n",
    "# except BaseException as e:\n",
    "#     print(\"error: \", e)\n",
    "for i in iters:\n",
    "  try:\n",
    "    onepass(i)\n",
    "  except BaseException as e: \n",
    "    print(\"Exception: \", e)\n",
    "    continue\n",
    "\n",
    "np.save('Error_data_metadynamics_longsample_beta_1_FEMpts_twowell.npy', error_data_FEM_TMD)"
   ]
  },
  {
   "cell_type": "code",
   "execution_count": 12,
   "metadata": {},
   "outputs": [],
   "source": [
    "np.save('Error_data_boltzmann_beta_1_twowell.npy', errors)"
   ]
  },
  {
   "cell_type": "code",
   "execution_count": 20,
   "metadata": {},
   "outputs": [],
   "source": [
    "N = fem_grid.shape[0]\n",
    "outliers = np.zeros(N)\n",
    "for n in range(N):\n",
    "    if model_systems.twowell_potential(fem_grid[n, :]) > -0.1:\n",
    "        outliers[n] = True\n",
    "# Define what points to keep and not for equivalence between metad and gibbs\n",
    "# datasets\n",
    "outliers = np.logical_not(outliers)\n",
    "# data = data[:,outliers]"
   ]
  },
  {
   "cell_type": "code",
   "execution_count": 44,
   "metadata": {},
   "outputs": [
    {
     "data": {
      "text/plain": [
       "(2, 10000)"
      ]
     },
     "execution_count": 44,
     "metadata": {},
     "output_type": "execute_result"
    }
   ],
   "source": [
    "data.shape"
   ]
  },
  {
   "cell_type": "code",
   "execution_count": null,
   "metadata": {},
   "outputs": [],
   "source": []
  }
 ],
 "metadata": {
  "interpreter": {
   "hash": "398dc28c06ad810e77de546bbdfa897a6ee0b83e59a5207339dda01a7843e01d"
  },
  "kernelspec": {
   "display_name": "Python 3.6.5 ('base')",
   "language": "python",
   "name": "python3"
  },
  "language_info": {
   "codemirror_mode": {
    "name": "ipython",
    "version": 3
   },
   "file_extension": ".py",
   "mimetype": "text/x-python",
   "name": "python",
   "nbconvert_exporter": "python",
   "pygments_lexer": "ipython3",
   "version": "3.6.5"
  },
  "orig_nbformat": 4
 },
 "nbformat": 4,
 "nbformat_minor": 2
}
