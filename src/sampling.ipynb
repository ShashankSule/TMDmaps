{
 "cells": [
  {
   "cell_type": "code",
   "execution_count": 3,
   "id": "9b71b690",
   "metadata": {},
   "outputs": [],
   "source": [
    "import os \n",
    "import numpy as np \n",
    "import scipy.io\n",
    "import matplotlib.pyplot as plt\n",
    "import model_systems, helpers, potentials\n",
    "from fem.distmesh import *\n",
    "from fem.FEM_TPT import *"
   ]
  },
  {
   "cell_type": "code",
   "execution_count": 18,
   "id": "acffd6ee",
   "metadata": {},
   "outputs": [],
   "source": [
    "# set up system\n",
    "datadir = \"/Users/shashanksule/Documents/TMDmaps/data/Muller/ground_data/DistmeshMueller_20.mat\"\n",
    "muller = potentials.Muller(1/20, datadir)\n",
    "drift = muller.drift; \n",
    "x0 = np.array([0,0])\n",
    "Ndeposit = int(1e3)\n",
    "Nbumps = int(1e3)\n",
    "subsample = int(1e2)\n",
    "height = 5*np.ones(Nbumps)\n",
    "sig = 0.05\n",
    "beta = muller.target_beta"
   ]
  },
  {
   "cell_type": "code",
   "execution_count": 7,
   "id": "64d931c2",
   "metadata": {},
   "outputs": [],
   "source": [
    "def euler_maruyama_OLD(drift, beta, dt, x0, samples=1e4, subsample=1e2):\n",
    "    # Euler-Maryuama subroutine for simulating SDE X_t = drift*dt + (2β^-1)dWt \n",
    "    # inputs: \n",
    "    # dt: time step \n",
    "    # x0: initialization \n",
    "    # samples: total # of iterations \n",
    "    # samples/subsample: # of recorded iterations\n",
    "    \n",
    "    n = x0.shape[0] # get dims \n",
    "    sqh = np.sqrt(2*dt*(1/beta)) # step control \n",
    "    traj = np.zeros((int(samples/subsample),n))\n",
    "    x = x0\n",
    "    j = 0; # sampling counter\n",
    "    for i in range(int(samples)):\n",
    "        x = x + drift(x)*dt + sqh*np.random.randn(n)\n",
    "        if i%subsample == 0: \n",
    "            traj[j,:] = x \n",
    "            j = j + 1 \n",
    "    \n",
    "    return traj "
   ]
  },
  {
   "cell_type": "code",
   "execution_count": 8,
   "id": "85a34a80",
   "metadata": {},
   "outputs": [],
   "source": [
    "# prep \n",
    "\n",
    "def euler_maruyama_metadynamics_OLD(drift, beta, dt, x0, height, sig, Ndeposit = int(1e4), Nbumps = int(1e2), subsample=1e2):\n",
    "    \n",
    "    # setup \n",
    "    sig2 = sig**2 \n",
    "    n = x0.shape[0] # get dims of problem\n",
    "    sqh = np.sqrt(2*dt*(1/beta)) # time step re-normalization for euler-maruyama\n",
    "    samples = np.zeros((int(np.floor(Ndeposit*Nbumps/subsample)),n)) # number of samples \n",
    "    coef = np.zeros((Nbumps,1)) # magnitude of each bump \n",
    "    xbump = np.zeros((Nbumps,2)) # locations of gaussian centres \n",
    "    i=0 # subsampling counter \n",
    "    height = height.reshape(coef.shape)\n",
    "    \n",
    "    # iteration: dX_t = grad V(X_t) + Σ_{i=1}^{k}V_i(X_t) dt + (2β^-1) dW_t \n",
    "    for k in range(Nbumps): \n",
    "\n",
    "        traj =  np.zeros((Ndeposit+1,n))\n",
    "        traj[0,:] = x0\n",
    "\n",
    "        for j in range(Ndeposit):\n",
    "            current_point = traj[j,:]\n",
    "\n",
    "            # compute modified gradient \n",
    "            aux = current_point - xbump # x - x_i \n",
    "            mod_grads = aux*(np.exp(-(1/sig2)*0.5*np.linalg.norm(aux,axis=1)**2).reshape(coef.shape))/sig2\n",
    "            dVbump = np.sum(coef*mod_grads, axis=0) \n",
    "\n",
    "            # compute drift gradient \n",
    "            dV = drift(current_point)\n",
    "\n",
    "            # # update\n",
    "            traj[j+1,:] = current_point + (dV + dVbump).reshape(n)*dt + sqh*np.random.randn(n)\n",
    "\n",
    "            # subsample trajectory \n",
    "            if ((k-1)*Ndeposit + j)%subsample == 0:\n",
    "                samples[i,:] = current_point\n",
    "                i=i+1 \n",
    "\n",
    "        # prepare for the next gaussian bump \n",
    "        x0 = traj[-1,:]\n",
    "        xbump[k,:] = x0\n",
    "        coef[k,:] = height[k,:]\n",
    "    \n",
    "    return samples "
   ]
  },
  {
   "cell_type": "code",
   "execution_count": 6,
   "id": "d775b864",
   "metadata": {},
   "outputs": [],
   "source": [
    "def fem_pts(system, scaling, Vbdry):\n",
    "    # system -- the relevant system \n",
    "    # scaling -- scaling parameter \n",
    "    # vbdry -- the level set for \n",
    "    \n",
    "    # extract geometric parameters \n",
    "    h0 = scaling \n",
    "    xa = system.centerx_A\n",
    "    ya = system.centery_A\n",
    "    xb = system.centerx_B\n",
    "    yb = system.centery_B\n",
    "    ra = system.rad_A\n",
    "    rb = system.rad_B\n",
    "    xmin = system.xmin\n",
    "    xmax = system.xmax\n",
    "    ymin = system.ymin\n",
    "    ymax = system.ymax \n",
    "    def potential(x): return np.apply_along_axis(system.potential, 1, x)\n",
    "    \n",
    "    # set up problem geometry \n",
    "    nx,ny= (100,100) # hardcoded for contour boundary; this is same as controlling scaling. \n",
    "    nxy = nx*ny\n",
    "    x1 = np.linspace(xmin,xmax,nx)\n",
    "    y1 = np.linspace(ymin,ymax,ny)\n",
    "    x_grid, y_grid = np.meshgrid(x1,y1)\n",
    "    x_vec = np.reshape(x_grid, (nxy,1))\n",
    "    y_vec = np.reshape(y_grid, (nxy,1))\n",
    "    v = np.zeros(nxy)\n",
    "    xy = np.concatenate((x_vec,y_vec),axis=1)\n",
    "    v = potential(xy)\n",
    "    vmin = np.amin(v)\n",
    "    v_grid = np.reshape(v,(nx,ny))\n",
    "    # vbdry = 100 \n",
    "    \n",
    "    # set sets A and B and the outer boundary\n",
    "    Na = int(round(2*math.pi*ra/h0))\n",
    "    Nb = int(round(2*math.pi*rb/h0))\n",
    "    ptsA = put_pts_on_circle(xa,ya,ra,Na)\n",
    "    ptsB = put_pts_on_circle(xb,yb,rb,Nb)\n",
    "\n",
    "    # outer boundary\n",
    "    bdrydata = plt.contour(x_grid,y_grid,v_grid,[Vbdry]) # need this for the meshing\n",
    "    plt.close()\n",
    "    for item in bdrydata.collections:\n",
    "        for i in item.get_paths():\n",
    "            p_outer = i.vertices\n",
    "    # reparametrize the outer boundary to make the distance \n",
    "    # between the nearest neighbor points along it approximately h0\n",
    "    pts_outer = reparametrization(p_outer,h0);\n",
    "\n",
    "    Nouter = np.size(pts_outer,axis=0)\n",
    "    Nfix = Na+Nb+Nouter\n",
    "\n",
    "    bbox = [xmin,xmax,ymin,ymax]\n",
    "    pfix = np.zeros((Nfix,2))\n",
    "    pfix[0:Na,:] = ptsA\n",
    "    pfix[Na:Na+Nb,:] = ptsB\n",
    "    pfix[Na+Nb:Nfix,:] = pts_outer\n",
    "\n",
    "    def dfunc(p):\n",
    "        d0 = potential(p)\n",
    "        dA = dcircle(p,xa,ya,ra)\n",
    "        dB = dcircle(p,xb,yb,rb)\n",
    "        d = ddiff(d0-Vbdry,dunion(dA,dB))\n",
    "        return d\n",
    "\n",
    "    pts,_ = distmesh2D(dfunc,huniform,h0,bbox,pfix)\n",
    "    \n",
    "    return pts "
   ]
  },
  {
   "cell_type": "code",
   "execution_count": 19,
   "id": "2968c868",
   "metadata": {},
   "outputs": [],
   "source": [
    "pts = euler_maruyama_metadynamics_OLD(drift, beta, 1e-4, x0, height, sig, Ndeposit, Nbumps, subsample)"
   ]
  },
  {
   "cell_type": "code",
   "execution_count": 20,
   "id": "802c2974",
   "metadata": {},
   "outputs": [
    {
     "data": {
      "text/plain": [
       "<matplotlib.collections.PathCollection at 0x11f6544f0>"
      ]
     },
     "execution_count": 20,
     "metadata": {},
     "output_type": "execute_result"
    },
    {
     "data": {
      "image/png": "[encoded data removed]",
      "text/plain": [
       "<Figure size 432x288 with 1 Axes>"
      ]
     },
     "metadata": {
      "needs_background": "light"
     },
     "output_type": "display_data"
    }
   ],
   "source": [
    "plt.scatter(pts[:,0], pts[:,1])"
   ]
  },
  {
   "cell_type": "code",
   "execution_count": null,
   "id": "7c354191",
   "metadata": {},
   "outputs": [],
   "source": []
  }
 ],
 "metadata": {
  "kernelspec": {
   "display_name": "Python 3 (ipykernel)",
   "language": "python",
   "name": "python3"
  },
  "language_info": {
   "codemirror_mode": {
    "name": "ipython",
    "version": 3
   },
   "file_extension": ".py",
   "mimetype": "text/x-python",
   "name": "python",
   "nbconvert_exporter": "python",
   "pygments_lexer": "ipython3",
   "version": "3.9.13"
  }
 },
 "nbformat": 4,
 "nbformat_minor": 5
}
