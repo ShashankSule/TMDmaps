{
 "cells": [
  {
   "cell_type": "code",
   "execution_count": 1,
   "id": "d548a8e9",
   "metadata": {},
   "outputs": [],
   "source": [
    "import os\n",
    "import copy\n",
    "import sys \n",
    "\n",
    "# Regular Modules\n",
    "import numpy as np\n",
    "import sklearn as sklearn\n",
    "import matplotlib.pyplot as plt\n",
    "import datetime\n",
    "import scipy.integrate as scint\n",
    "#from numpy.random import default_rng\n",
    "import numpy.ma as ma\n",
    "import matplotlib.tri as tri\n",
    "import scipy.io\n",
    "import time \n",
    "from mpl_toolkits.mplot3d import axes3d\n",
    "\n",
    "# parallelization modules \n",
    "from math import nan\n",
    "from joblib import Parallel, delayed\n",
    "import multiprocessing\n",
    "import itertools\n",
    "\n",
    "# # My Modules\n",
    "import model_systems, helpers, potentials, diffusion_map \n",
    "from fem.distmesh import * \n",
    "from fem.FEM_TPT import *\n",
    "import sampling "
   ]
  },
  {
   "cell_type": "markdown",
   "id": "71fdd2a8",
   "metadata": {},
   "source": [
    "# Set up the problem "
   ]
  },
  {
   "cell_type": "code",
   "execution_count": 2,
   "id": "b8748b15",
   "metadata": {},
   "outputs": [],
   "source": [
    "# first choose problem \n",
    "problem = \"muller\"\n",
    "datadir = \"/Users/shashanksule/Documents/TMDmaps/data/Muller/ground_data/DistmeshMueller_20.mat\"\n",
    "if problem == \"muller\":\n",
    "    system = potentials.Muller(1/20, datadir) \n",
    "elif problem == \"twowell\":\n",
    "    system = potentials.Twowell(1, datadir)\n",
    "else:\n",
    "    print(\"invalid problem\")"
   ]
  },
  {
   "cell_type": "code",
   "execution_count": 3,
   "id": "48d0a1ab",
   "metadata": {},
   "outputs": [],
   "source": [
    "# next choose dataset params \n",
    "\n",
    "dataset = \"metadynamics\"\n",
    "x0 = np.array([0,0])\n",
    "dt = 1e-4\n",
    "Vbdry = 10 # 10 for muller, 1 (or less for twowell)\n",
    "\n",
    "# metadynamics params here\n",
    "Nbumps = int(1e3) \n",
    "Ndeposit = int(1e3)\n",
    "subsample = int(1e3)\n",
    "height = 5*np.ones(Nbumps)\n",
    "sig = 0.05 "
   ]
  },
  {
   "cell_type": "code",
   "execution_count": 4,
   "id": "f11d97c1",
   "metadata": {},
   "outputs": [],
   "source": [
    "# compute dataset \n",
    "\n",
    "if dataset == \"gibbs\": \n",
    "    data = sampling.euler_maruyama_OLD(system.drift, system.target_beta, \\\n",
    "                                       dt, x0, \\\n",
    "                                       int(1e6), int(1e2))\n",
    "elif dataset == \"metadynamics\":\n",
    "    data = sampling.euler_maruyama_metadynamics_OLD(system.drift, system.target_beta, \\\n",
    "                                                    dt, x0, height, sig, \\\n",
    "                                                    Ndeposit, Nbumps, subsample)\n",
    "elif dataset == \"uniform\": \n",
    "    data = sampling.fem_pts(system, 0.05, Vbdry)"
   ]
  },
  {
   "cell_type": "code",
   "execution_count": 6,
   "id": "563a2085",
   "metadata": {},
   "outputs": [
    {
     "data": {
      "text/plain": [
       "<matplotlib.collections.PathCollection at 0x131e1af40>"
      ]
     },
     "execution_count": 6,
     "metadata": {},
     "output_type": "execute_result"
    },
    {
     "data": {
      "image/png": "[encoded data removed]",
      "text/plain": [
       "<Figure size 432x288 with 1 Axes>"
      ]
     },
     "metadata": {
      "needs_background": "light"
     },
     "output_type": "display_data"
    }
   ],
   "source": [
    "# visualize dataset \n",
    "\n",
    "plt.scatter(data[:,0], data[:,1])"
   ]
  },
  {
   "cell_type": "code",
   "execution_count": 7,
   "id": "d986d19c",
   "metadata": {},
   "outputs": [],
   "source": [
    "# upload fem soltuon\n",
    "system.load_fem()"
   ]
  },
  {
   "cell_type": "markdown",
   "id": "9f06a141",
   "metadata": {},
   "source": [
    "# Set up t.m. diffusion map "
   ]
  },
  {
   "cell_type": "code",
   "execution_count": 15,
   "id": "9de60e3f",
   "metadata": {},
   "outputs": [],
   "source": [
    "# tmd map params \n",
    "ϵ = 2**(-5) # bandwidth\n",
    "δ = 0.01 # sparsification \n",
    "vbdry = 10 # error comparison region \n",
    "n_neigh = 920 # knn-neigbours \n",
    "σ = 3"
   ]
  },
  {
   "cell_type": "code",
   "execution_count": 16,
   "id": "f393722a",
   "metadata": {},
   "outputs": [],
   "source": [
    "# set up diff. map \n",
    "δ_net, _ = helpers.epsilon_net(data.T, δ)\n",
    "data_uniformized = data[δ_net, :] \n",
    "err_boolz = system.throwing_pts_muller(data_uniformized.T, vbdry)\n",
    "N = data_uniformized.shape[0] "
   ]
  },
  {
   "cell_type": "code",
   "execution_count": 17,
   "id": "ce6eb04f",
   "metadata": {},
   "outputs": [],
   "source": [
    "# compute t.m.\n",
    "target_measure = np.zeros(N)\n",
    "for i in range(N):\n",
    "    target_measure[i] = system.density(data_uniformized[i,:])"
   ]
  },
  {
   "cell_type": "code",
   "execution_count": 18,
   "id": "b8b71a70",
   "metadata": {},
   "outputs": [],
   "source": [
    "# get tmdmap \n",
    "target_dmap = diffusion_map.TargetMeasureDiffusionMap(epsilon=ϵ, n_neigh=n_neigh, target_measure=target_measure)"
   ]
  },
  {
   "cell_type": "code",
   "execution_count": 19,
   "id": "78d3d79f",
   "metadata": {},
   "outputs": [],
   "source": [
    "# get kernel and generator \n",
    "\n",
    "target_dmap.construct_generator(data_uniformized.T)\n",
    "K = target_dmap.get_kernel()\n",
    "L = target_dmap.get_generator() "
   ]
  },
  {
   "cell_type": "code",
   "execution_count": 20,
   "id": "706a46ff",
   "metadata": {},
   "outputs": [],
   "source": [
    "q_tmd = target_dmap.construct_committor(L, err_boolz['B_bool'], err_boolz['C_bool'])"
   ]
  },
  {
   "cell_type": "markdown",
   "id": "c4ae9170",
   "metadata": {},
   "source": [
    "# Compare errors "
   ]
  },
  {
   "cell_type": "code",
   "execution_count": 21,
   "id": "7ea69c15",
   "metadata": {},
   "outputs": [],
   "source": [
    "# checking interpolation, run this only if you want\n",
    "q_interpolant_fem_to_tmd = scipy.interpolate.griddata(system.qfem['pts'], system.qfem['committor'], data_uniformized, \\\n",
    "                                                    method='linear')\n",
    "q_interpolant_tmd_to_fem = scipy.interpolate.griddata(data_uniformized, q_tmd, system.qfem['pts'], \\\n",
    "                                                  method='linear')"
   ]
  },
  {
   "cell_type": "code",
   "execution_count": 22,
   "id": "5b00b192",
   "metadata": {},
   "outputs": [],
   "source": [
    "fem_error_boolz = system.throwing_pts_muller(system.qfem['pts'].T, vbdry)"
   ]
  },
  {
   "cell_type": "code",
   "execution_count": 23,
   "id": "418c5062",
   "metadata": {},
   "outputs": [],
   "source": [
    "# compute errors on fem points \n",
    "q_fem_error = system.qfem['committor'][fem_error_boolz['error_bool']]\n",
    "q_interpolant_tmd_to_fem_error = q_interpolant_tmd_to_fem[fem_error_boolz['error_bool']].reshape(q_fem_error.shape)\n",
    "\n",
    "# compute errors on tmd points \n",
    "q_tmd_error = q_tmd[err_boolz['error_bool']]\n",
    "q_interpolant_fem_to_tmd_error = q_interpolant_fem_to_tmd[err_boolz['error_bool']].reshape(q_tmd_error.shape)\n"
   ]
  },
  {
   "cell_type": "code",
   "execution_count": 25,
   "id": "751b28b9",
   "metadata": {},
   "outputs": [
    {
     "data": {
      "text/plain": [
       "0.012759429713353816"
      ]
     },
     "execution_count": 25,
     "metadata": {},
     "output_type": "execute_result"
    }
   ],
   "source": [
    "helpers.RMSerror(q_tmd_error, q_interpolant_fem_to_tmd_error, checknans=True)"
   ]
  },
  {
   "cell_type": "markdown",
   "id": "862c4ab8",
   "metadata": {},
   "source": [
    "# Run error sweep for one parameter combination "
   ]
  },
  {
   "cell_type": "code",
   "execution_count": 12,
   "id": "672e6aa0",
   "metadata": {},
   "outputs": [],
   "source": [
    "def onepass(t): \n",
    "    ϵ, δ, vbdry, n_neigh = t\n",
    "    \n",
    "    # set up diff. map \n",
    "    δ_net, _ = helpers.epsilon_net(data.T, δ)\n",
    "    data_uniformized = data[δ_net, :] \n",
    "    err_boolz = system.throwing_pts_muller(data_uniformized.T, vbdry)\n",
    "    N = data_uniformized.shape[0] \n",
    "    \n",
    "    # check knn condition \n",
    "    if n_neigh > N: \n",
    "        n_neigh = N-1\n",
    "    \n",
    "    # compute t.m.\n",
    "    target_measure = np.zeros(N)\n",
    "    for i in range(N):\n",
    "        target_measure[i] = system.density(data_uniformized[i,:])\n",
    "        \n",
    "    # get tmdmap \n",
    "    target_dmap = diffusion_map.TargetMeasureDiffusionMap(epsilon=ϵ, n_neigh=n_neigh, \\\n",
    "                                                          target_measure=target_measure)\n",
    "    # get kernel and generator \n",
    "    target_dmap.construct_generator(data_uniformized.T)\n",
    "    K = target_dmap.get_kernel()\n",
    "    L = target_dmap.get_generator() \n",
    "    \n",
    "    # solve committor problem \n",
    "    q_tmd = target_dmap.construct_committor(L, err_boolz['B_bool'], err_boolz['C_bool'])\n",
    "    \n",
    "    # checking interpolation, run this only if you want\n",
    "    q_interpolant_fem_to_tmd = scipy.interpolate.griddata(system.qfem['pts'], system.qfem['committor'],\\\n",
    "                                                          data_uniformized, method='linear')\n",
    "    q_interpolant_tmd_to_fem = scipy.interpolate.griddata(data_uniformized, q_tmd, system.qfem['pts'], \\\n",
    "                                                  method='linear')\n",
    "    \n",
    "    fem_error_boolz = system.throwing_pts_muller(system.qfem['pts'].T, vbdry)\n",
    "    \n",
    "    # compute errors on fem points \n",
    "    q_fem_error = system.qfem['committor'][fem_error_boolz['error_bool']]\n",
    "    q_interpolant_tmd_to_fem_error = q_interpolant_tmd_to_fem[fem_error_boolz['error_bool']].reshape(q_fem_error.shape)\n",
    "\n",
    "    # compute errors on tmd points \n",
    "    q_tmd_error = q_tmd[err_boolz['error_bool']]\n",
    "    q_interpolant_fem_to_tmd_error = q_interpolant_fem_to_tmd[err_boolz['error_bool']].reshape(q_tmd_error.shape)\n",
    "    \n",
    "    return helpers.RMSerror(q_tmd_error, q_interpolant_fem_to_tmd_error, checknans=True)"
   ]
  },
  {
   "cell_type": "markdown",
   "id": "f75f3cd5",
   "metadata": {},
   "source": [
    "# Eigenvalues of dirichlet laplacian "
   ]
  },
  {
   "cell_type": "code",
   "execution_count": null,
   "id": "46babaf2",
   "metadata": {},
   "outputs": [],
   "source": [
    "ϵ = 2**(-5) # bandwidth\n",
    "δ = 0.01 # sparsification \n",
    "vbdry = 10 # error comparison region \n",
    "n_neigh = 1024 # knn-neigbours  \n",
    "target_dmap = diffusion_map.TargetMeasureDiffusionMap(epsilon=ϵ, n_neigh=n_neigh, target_measure=target_measure)\n",
    "evals = np.zeros(100) \n",
    "\n",
    "for i in range(100): \n",
    "    data = sampling.euler_maruyama_metadynamics_OLD(system.drift, system.target_beta, \\\n",
    "                                                    dt, x0, height, sig, \\\n",
    "                                                    Ndeposit, Nbumps, int(1e4))\n",
    "    target_dmap.construct_generator(data_uniformized.T)\n",
    "    K = target_dmap.get_kernel()\n",
    "    L = target_dmap.get_generator() \n",
    "    "
   ]
  },
  {
   "cell_type": "markdown",
   "id": "7447ef83",
   "metadata": {},
   "source": [
    "# Playing with multiprocessing"
   ]
  },
  {
   "cell_type": "code",
   "execution_count": 22,
   "id": "a8bab198",
   "metadata": {},
   "outputs": [],
   "source": [
    "def deltanet(delta):\n",
    "    δ_net, _ = helpers.epsilon_net(data.T, delta)\n",
    "    return data[δ_net, :]\n",
    "deltas = [0.01, 0.02, 0.03, 0.04]"
   ]
  },
  {
   "cell_type": "code",
   "execution_count": 23,
   "id": "bc5e880d",
   "metadata": {},
   "outputs": [
    {
     "name": "stderr",
     "output_type": "stream",
     "text": [
      "Process SpawnPoolWorker-3:\n",
      "Traceback (most recent call last):\n",
      "  File \"/Users/shashanksule/miniforge3/lib/python3.9/multiprocessing/process.py\", line 315, in _bootstrap\n",
      "    self.run()\n",
      "  File \"/Users/shashanksule/miniforge3/lib/python3.9/multiprocessing/process.py\", line 108, in run\n",
      "    self._target(*self._args, **self._kwargs)\n",
      "  File \"/Users/shashanksule/miniforge3/lib/python3.9/multiprocessing/pool.py\", line 114, in worker\n",
      "    task = get()\n",
      "  File \"/Users/shashanksule/miniforge3/lib/python3.9/multiprocessing/queues.py\", line 367, in get\n",
      "    return _ForkingPickler.loads(res)\n",
      "AttributeError: Can't get attribute 'deltanet' on <module '__main__' (built-in)>\n",
      "Process SpawnPoolWorker-2:\n",
      "Traceback (most recent call last):\n",
      "  File \"/Users/shashanksule/miniforge3/lib/python3.9/multiprocessing/process.py\", line 315, in _bootstrap\n",
      "    self.run()\n",
      "  File \"/Users/shashanksule/miniforge3/lib/python3.9/multiprocessing/process.py\", line 108, in run\n",
      "    self._target(*self._args, **self._kwargs)\n",
      "  File \"/Users/shashanksule/miniforge3/lib/python3.9/multiprocessing/pool.py\", line 114, in worker\n",
      "    task = get()\n",
      "  File \"/Users/shashanksule/miniforge3/lib/python3.9/multiprocessing/queues.py\", line 367, in get\n",
      "    return _ForkingPickler.loads(res)\n",
      "AttributeError: Can't get attribute 'deltanet' on <module '__main__' (built-in)>\n",
      "Process SpawnPoolWorker-1:\n",
      "Traceback (most recent call last):\n",
      "  File \"/Users/shashanksule/miniforge3/lib/python3.9/multiprocessing/process.py\", line 315, in _bootstrap\n",
      "    self.run()\n",
      "  File \"/Users/shashanksule/miniforge3/lib/python3.9/multiprocessing/process.py\", line 108, in run\n",
      "    self._target(*self._args, **self._kwargs)\n",
      "  File \"/Users/shashanksule/miniforge3/lib/python3.9/multiprocessing/pool.py\", line 114, in worker\n",
      "    task = get()\n",
      "  File \"/Users/shashanksule/miniforge3/lib/python3.9/multiprocessing/queues.py\", line 367, in get\n",
      "    return _ForkingPickler.loads(res)\n",
      "AttributeError: Can't get attribute 'deltanet' on <module '__main__' (built-in)>\n",
      "Process SpawnPoolWorker-4:\n",
      "Traceback (most recent call last):\n",
      "  File \"/Users/shashanksule/miniforge3/lib/python3.9/multiprocessing/process.py\", line 315, in _bootstrap\n",
      "    self.run()\n",
      "  File \"/Users/shashanksule/miniforge3/lib/python3.9/multiprocessing/process.py\", line 108, in run\n",
      "    self._target(*self._args, **self._kwargs)\n",
      "  File \"/Users/shashanksule/miniforge3/lib/python3.9/multiprocessing/pool.py\", line 114, in worker\n",
      "    task = get()\n",
      "  File \"/Users/shashanksule/miniforge3/lib/python3.9/multiprocessing/queues.py\", line 367, in get\n",
      "    return _ForkingPickler.loads(res)\n",
      "AttributeError: Can't get attribute 'deltanet' on <module '__main__' (built-in)>\n",
      "Process SpawnPoolWorker-11:\n",
      "Process SpawnPoolWorker-6:\n",
      "Process SpawnPoolWorker-12:\n",
      "Process SpawnPoolWorker-9:\n",
      "Process SpawnPoolWorker-8:\n",
      "Process SpawnPoolWorker-7:\n",
      "Process SpawnPoolWorker-10:\n",
      "Process SpawnPoolWorker-5:\n",
      "Traceback (most recent call last):\n",
      "Traceback (most recent call last):\n",
      "  File \"/Users/shashanksule/miniforge3/lib/python3.9/multiprocessing/process.py\", line 315, in _bootstrap\n",
      "    self.run()\n",
      "  File \"/Users/shashanksule/miniforge3/lib/python3.9/multiprocessing/process.py\", line 108, in run\n",
      "    self._target(*self._args, **self._kwargs)\n",
      "  File \"/Users/shashanksule/miniforge3/lib/python3.9/multiprocessing/pool.py\", line 114, in worker\n",
      "    task = get()\n",
      "  File \"/Users/shashanksule/miniforge3/lib/python3.9/multiprocessing/queues.py\", line 365, in get\n",
      "    res = self._reader.recv_bytes()\n",
      "  File \"/Users/shashanksule/miniforge3/lib/python3.9/multiprocessing/connection.py\", line 221, in recv_bytes\n",
      "    buf = self._recv_bytes(maxlength)\n",
      "  File \"/Users/shashanksule/miniforge3/lib/python3.9/multiprocessing/connection.py\", line 419, in _recv_bytes\n",
      "    buf = self._recv(4)\n",
      "  File \"/Users/shashanksule/miniforge3/lib/python3.9/multiprocessing/connection.py\", line 384, in _recv\n",
      "    chunk = read(handle, remaining)\n",
      "KeyboardInterrupt\n",
      "Traceback (most recent call last):\n",
      "  File \"/Users/shashanksule/miniforge3/lib/python3.9/multiprocessing/process.py\", line 315, in _bootstrap\n",
      "    self.run()\n",
      "  File \"/Users/shashanksule/miniforge3/lib/python3.9/multiprocessing/process.py\", line 108, in run\n",
      "    self._target(*self._args, **self._kwargs)\n",
      "  File \"/Users/shashanksule/miniforge3/lib/python3.9/multiprocessing/pool.py\", line 114, in worker\n",
      "    task = get()\n",
      "  File \"/Users/shashanksule/miniforge3/lib/python3.9/multiprocessing/queues.py\", line 364, in get\n",
      "    with self._rlock:\n",
      "  File \"/Users/shashanksule/miniforge3/lib/python3.9/multiprocessing/synchronize.py\", line 95, in __enter__\n",
      "    return self._semlock.__enter__()\n",
      "KeyboardInterrupt\n",
      "Traceback (most recent call last):\n",
      "  File \"/Users/shashanksule/miniforge3/lib/python3.9/multiprocessing/process.py\", line 315, in _bootstrap\n",
      "    self.run()\n",
      "  File \"/Users/shashanksule/miniforge3/lib/python3.9/multiprocessing/process.py\", line 108, in run\n",
      "    self._target(*self._args, **self._kwargs)\n",
      "  File \"/Users/shashanksule/miniforge3/lib/python3.9/multiprocessing/pool.py\", line 114, in worker\n",
      "    task = get()\n",
      "  File \"/Users/shashanksule/miniforge3/lib/python3.9/multiprocessing/queues.py\", line 364, in get\n",
      "    with self._rlock:\n",
      "  File \"/Users/shashanksule/miniforge3/lib/python3.9/multiprocessing/synchronize.py\", line 95, in __enter__\n",
      "    return self._semlock.__enter__()\n",
      "KeyboardInterrupt\n",
      "Traceback (most recent call last):\n",
      "  File \"/Users/shashanksule/miniforge3/lib/python3.9/multiprocessing/process.py\", line 315, in _bootstrap\n",
      "    self.run()\n",
      "  File \"/Users/shashanksule/miniforge3/lib/python3.9/multiprocessing/process.py\", line 108, in run\n",
      "    self._target(*self._args, **self._kwargs)\n",
      "  File \"/Users/shashanksule/miniforge3/lib/python3.9/multiprocessing/pool.py\", line 114, in worker\n",
      "    task = get()\n",
      "  File \"/Users/shashanksule/miniforge3/lib/python3.9/multiprocessing/queues.py\", line 364, in get\n",
      "    with self._rlock:\n",
      "  File \"/Users/shashanksule/miniforge3/lib/python3.9/multiprocessing/synchronize.py\", line 95, in __enter__\n",
      "    return self._semlock.__enter__()\n",
      "KeyboardInterrupt\n",
      "Traceback (most recent call last):\n",
      "  File \"/Users/shashanksule/miniforge3/lib/python3.9/multiprocessing/process.py\", line 315, in _bootstrap\n",
      "    self.run()\n",
      "  File \"/Users/shashanksule/miniforge3/lib/python3.9/multiprocessing/process.py\", line 108, in run\n",
      "    self._target(*self._args, **self._kwargs)\n",
      "  File \"/Users/shashanksule/miniforge3/lib/python3.9/multiprocessing/pool.py\", line 114, in worker\n",
      "    task = get()\n",
      "  File \"/Users/shashanksule/miniforge3/lib/python3.9/multiprocessing/queues.py\", line 364, in get\n",
      "    with self._rlock:\n",
      "  File \"/Users/shashanksule/miniforge3/lib/python3.9/multiprocessing/synchronize.py\", line 95, in __enter__\n",
      "    return self._semlock.__enter__()\n",
      "  File \"/Users/shashanksule/miniforge3/lib/python3.9/multiprocessing/process.py\", line 315, in _bootstrap\n",
      "    self.run()\n",
      "  File \"/Users/shashanksule/miniforge3/lib/python3.9/multiprocessing/process.py\", line 108, in run\n",
      "    self._target(*self._args, **self._kwargs)\n",
      "  File \"/Users/shashanksule/miniforge3/lib/python3.9/multiprocessing/pool.py\", line 114, in worker\n",
      "    task = get()\n",
      "  File \"/Users/shashanksule/miniforge3/lib/python3.9/multiprocessing/queues.py\", line 364, in get\n",
      "    with self._rlock:\n",
      "  File \"/Users/shashanksule/miniforge3/lib/python3.9/multiprocessing/synchronize.py\", line 95, in __enter__\n",
      "    return self._semlock.__enter__()\n",
      "KeyboardInterrupt\n",
      "Traceback (most recent call last):\n",
      "  File \"/Users/shashanksule/miniforge3/lib/python3.9/multiprocessing/process.py\", line 315, in _bootstrap\n",
      "    self.run()\n",
      "  File \"/Users/shashanksule/miniforge3/lib/python3.9/multiprocessing/process.py\", line 108, in run\n",
      "    self._target(*self._args, **self._kwargs)\n",
      "  File \"/Users/shashanksule/miniforge3/lib/python3.9/multiprocessing/pool.py\", line 114, in worker\n",
      "    task = get()\n",
      "  File \"/Users/shashanksule/miniforge3/lib/python3.9/multiprocessing/queues.py\", line 364, in get\n",
      "    with self._rlock:\n",
      "  File \"/Users/shashanksule/miniforge3/lib/python3.9/multiprocessing/synchronize.py\", line 95, in __enter__\n",
      "    return self._semlock.__enter__()\n",
      "KeyboardInterrupt\n",
      "KeyboardInterrupt\n",
      "Traceback (most recent call last):\n",
      "  File \"/Users/shashanksule/miniforge3/lib/python3.9/multiprocessing/process.py\", line 315, in _bootstrap\n",
      "    self.run()\n",
      "  File \"/Users/shashanksule/miniforge3/lib/python3.9/multiprocessing/process.py\", line 108, in run\n",
      "    self._target(*self._args, **self._kwargs)\n",
      "  File \"/Users/shashanksule/miniforge3/lib/python3.9/multiprocessing/pool.py\", line 114, in worker\n",
      "    task = get()\n",
      "  File \"/Users/shashanksule/miniforge3/lib/python3.9/multiprocessing/queues.py\", line 364, in get\n",
      "    with self._rlock:\n",
      "  File \"/Users/shashanksule/miniforge3/lib/python3.9/multiprocessing/synchronize.py\", line 95, in __enter__\n",
      "    return self._semlock.__enter__()\n",
      "KeyboardInterrupt\n"
     ]
    },
    {
     "ename": "KeyboardInterrupt",
     "evalue": "",
     "output_type": "error",
     "traceback": [
      "\u001b[0;31m---------------------------------------------------------------------------\u001b[0m",
      "\u001b[0;31mKeyboardInterrupt\u001b[0m                         Traceback (most recent call last)",
      "Input \u001b[0;32mIn [23]\u001b[0m, in \u001b[0;36m<cell line: 2>\u001b[0;34m()\u001b[0m\n\u001b[1;32m      1\u001b[0m num \u001b[38;5;241m=\u001b[39m multiprocessing\u001b[38;5;241m.\u001b[39mcpu_count()\n\u001b[1;32m      2\u001b[0m \u001b[38;5;28;01mwith\u001b[39;00m multiprocessing\u001b[38;5;241m.\u001b[39mPool(num) \u001b[38;5;28;01mas\u001b[39;00m processing_pool:\n\u001b[0;32m----> 3\u001b[0m     \u001b[43mprocessing_pool\u001b[49m\u001b[38;5;241;43m.\u001b[39;49m\u001b[43mmap\u001b[49m\u001b[43m(\u001b[49m\u001b[43mdeltanet\u001b[49m\u001b[43m,\u001b[49m\u001b[43m \u001b[49m\u001b[43mdeltas\u001b[49m\u001b[43m)\u001b[49m\n",
      "File \u001b[0;32m~/miniforge3/lib/python3.9/multiprocessing/pool.py:364\u001b[0m, in \u001b[0;36mPool.map\u001b[0;34m(self, func, iterable, chunksize)\u001b[0m\n\u001b[1;32m    359\u001b[0m \u001b[38;5;28;01mdef\u001b[39;00m \u001b[38;5;21mmap\u001b[39m(\u001b[38;5;28mself\u001b[39m, func, iterable, chunksize\u001b[38;5;241m=\u001b[39m\u001b[38;5;28;01mNone\u001b[39;00m):\n\u001b[1;32m    360\u001b[0m     \u001b[38;5;124;03m'''\u001b[39;00m\n\u001b[1;32m    361\u001b[0m \u001b[38;5;124;03m    Apply `func` to each element in `iterable`, collecting the results\u001b[39;00m\n\u001b[1;32m    362\u001b[0m \u001b[38;5;124;03m    in a list that is returned.\u001b[39;00m\n\u001b[1;32m    363\u001b[0m \u001b[38;5;124;03m    '''\u001b[39;00m\n\u001b[0;32m--> 364\u001b[0m     \u001b[38;5;28;01mreturn\u001b[39;00m \u001b[38;5;28;43mself\u001b[39;49m\u001b[38;5;241;43m.\u001b[39;49m\u001b[43m_map_async\u001b[49m\u001b[43m(\u001b[49m\u001b[43mfunc\u001b[49m\u001b[43m,\u001b[49m\u001b[43m \u001b[49m\u001b[43miterable\u001b[49m\u001b[43m,\u001b[49m\u001b[43m \u001b[49m\u001b[43mmapstar\u001b[49m\u001b[43m,\u001b[49m\u001b[43m \u001b[49m\u001b[43mchunksize\u001b[49m\u001b[43m)\u001b[49m\u001b[38;5;241;43m.\u001b[39;49m\u001b[43mget\u001b[49m\u001b[43m(\u001b[49m\u001b[43m)\u001b[49m\n",
      "File \u001b[0;32m~/miniforge3/lib/python3.9/multiprocessing/pool.py:765\u001b[0m, in \u001b[0;36mApplyResult.get\u001b[0;34m(self, timeout)\u001b[0m\n\u001b[1;32m    764\u001b[0m \u001b[38;5;28;01mdef\u001b[39;00m \u001b[38;5;21mget\u001b[39m(\u001b[38;5;28mself\u001b[39m, timeout\u001b[38;5;241m=\u001b[39m\u001b[38;5;28;01mNone\u001b[39;00m):\n\u001b[0;32m--> 765\u001b[0m     \u001b[38;5;28;43mself\u001b[39;49m\u001b[38;5;241;43m.\u001b[39;49m\u001b[43mwait\u001b[49m\u001b[43m(\u001b[49m\u001b[43mtimeout\u001b[49m\u001b[43m)\u001b[49m\n\u001b[1;32m    766\u001b[0m     \u001b[38;5;28;01mif\u001b[39;00m \u001b[38;5;129;01mnot\u001b[39;00m \u001b[38;5;28mself\u001b[39m\u001b[38;5;241m.\u001b[39mready():\n\u001b[1;32m    767\u001b[0m         \u001b[38;5;28;01mraise\u001b[39;00m \u001b[38;5;167;01mTimeoutError\u001b[39;00m\n",
      "File \u001b[0;32m~/miniforge3/lib/python3.9/multiprocessing/pool.py:762\u001b[0m, in \u001b[0;36mApplyResult.wait\u001b[0;34m(self, timeout)\u001b[0m\n\u001b[1;32m    761\u001b[0m \u001b[38;5;28;01mdef\u001b[39;00m \u001b[38;5;21mwait\u001b[39m(\u001b[38;5;28mself\u001b[39m, timeout\u001b[38;5;241m=\u001b[39m\u001b[38;5;28;01mNone\u001b[39;00m):\n\u001b[0;32m--> 762\u001b[0m     \u001b[38;5;28;43mself\u001b[39;49m\u001b[38;5;241;43m.\u001b[39;49m\u001b[43m_event\u001b[49m\u001b[38;5;241;43m.\u001b[39;49m\u001b[43mwait\u001b[49m\u001b[43m(\u001b[49m\u001b[43mtimeout\u001b[49m\u001b[43m)\u001b[49m\n",
      "File \u001b[0;32m~/miniforge3/lib/python3.9/threading.py:581\u001b[0m, in \u001b[0;36mEvent.wait\u001b[0;34m(self, timeout)\u001b[0m\n\u001b[1;32m    579\u001b[0m signaled \u001b[38;5;241m=\u001b[39m \u001b[38;5;28mself\u001b[39m\u001b[38;5;241m.\u001b[39m_flag\n\u001b[1;32m    580\u001b[0m \u001b[38;5;28;01mif\u001b[39;00m \u001b[38;5;129;01mnot\u001b[39;00m signaled:\n\u001b[0;32m--> 581\u001b[0m     signaled \u001b[38;5;241m=\u001b[39m \u001b[38;5;28;43mself\u001b[39;49m\u001b[38;5;241;43m.\u001b[39;49m\u001b[43m_cond\u001b[49m\u001b[38;5;241;43m.\u001b[39;49m\u001b[43mwait\u001b[49m\u001b[43m(\u001b[49m\u001b[43mtimeout\u001b[49m\u001b[43m)\u001b[49m\n\u001b[1;32m    582\u001b[0m \u001b[38;5;28;01mreturn\u001b[39;00m signaled\n",
      "File \u001b[0;32m~/miniforge3/lib/python3.9/threading.py:312\u001b[0m, in \u001b[0;36mCondition.wait\u001b[0;34m(self, timeout)\u001b[0m\n\u001b[1;32m    310\u001b[0m \u001b[38;5;28;01mtry\u001b[39;00m:    \u001b[38;5;66;03m# restore state no matter what (e.g., KeyboardInterrupt)\u001b[39;00m\n\u001b[1;32m    311\u001b[0m     \u001b[38;5;28;01mif\u001b[39;00m timeout \u001b[38;5;129;01mis\u001b[39;00m \u001b[38;5;28;01mNone\u001b[39;00m:\n\u001b[0;32m--> 312\u001b[0m         \u001b[43mwaiter\u001b[49m\u001b[38;5;241;43m.\u001b[39;49m\u001b[43macquire\u001b[49m\u001b[43m(\u001b[49m\u001b[43m)\u001b[49m\n\u001b[1;32m    313\u001b[0m         gotit \u001b[38;5;241m=\u001b[39m \u001b[38;5;28;01mTrue\u001b[39;00m\n\u001b[1;32m    314\u001b[0m     \u001b[38;5;28;01melse\u001b[39;00m:\n",
      "\u001b[0;31mKeyboardInterrupt\u001b[0m: "
     ]
    }
   ],
   "source": [
    "num = multiprocessing.cpu_count()\n",
    "with multiprocessing.Pool(num) as processing_pool:\n",
    "    processing_pool.map(deltanet, deltas)"
   ]
  },
  {
   "cell_type": "code",
   "execution_count": null,
   "id": "31655420",
   "metadata": {},
   "outputs": [],
   "source": []
  }
 ],
 "metadata": {
  "kernelspec": {
   "display_name": "Python 3 (ipykernel)",
   "language": "python",
   "name": "python3"
  },
  "language_info": {
   "codemirror_mode": {
    "name": "ipython",
    "version": 3
   },
   "file_extension": ".py",
   "mimetype": "text/x-python",
   "name": "python",
   "nbconvert_exporter": "python",
   "pygments_lexer": "ipython3",
   "version": "3.9.13"
  }
 },
 "nbformat": 4,
 "nbformat_minor": 5
}
