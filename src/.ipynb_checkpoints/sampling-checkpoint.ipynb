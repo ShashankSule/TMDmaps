{
 "cells": [
  {
   "cell_type": "code",
   "execution_count": 2,
   "id": "9b71b690",
   "metadata": {},
   "outputs": [],
   "source": [
    "import os \n",
    "import numpy as np \n",
    "import scipy.io\n",
    "import matplotlib.pyplot as plt\n",
    "import model_systems, helpers, potentials"
   ]
  },
  {
   "cell_type": "code",
   "execution_count": 3,
   "id": "1a3fdb05",
   "metadata": {},
   "outputs": [],
   "source": [
    "# Euler maruyama: example \n",
    "\n",
    "# First set up the data + potential \n",
    "datadir = \"/Users/shashanksule/Documents/TMDmaps/data/Muller\"\n",
    "muller = potentials.Muller(1/20, datadir) # get muller's potential \n",
    "drift = muller.drift # set drift equal to grad V "
   ]
  },
  {
   "cell_type": "code",
   "execution_count": 4,
   "id": "3af498be",
   "metadata": {},
   "outputs": [],
   "source": [
    "x0 = np.array([0.25, 0.5]) # initialize \n",
    "n = x0.shape[0] # get dims \n",
    "samples = int(1e4)  # total # of time steps \n",
    "subsample = 1e2 # subsampling rate \n",
    "dt = 1e-4 # step size\n",
    "beta = 1/20  # 1/Temp \n",
    "sqh = np.sqrt(2*dt*(1/beta)) # step control \n",
    "traj = np.zeros((n,int(samples/subsample)))\n",
    "x = x0\n",
    "j = 0; # sampling counter \n"
   ]
  },
  {
   "cell_type": "code",
   "execution_count": 5,
   "id": "64d931c2",
   "metadata": {},
   "outputs": [],
   "source": [
    "def euler_maruyama_OLD(drift, beta, dt, x0, samples=1e4, subsample=1e2):\n",
    "    # Euler-Maryuama subroutine for simulating SDE X_t = drift*dt + (2β^-1)dWt \n",
    "    # inputs: \n",
    "    # dt: time step \n",
    "    # x0: initialization \n",
    "    # samples: total # of iterations \n",
    "    # samples/subsample: # of recorded iterations\n",
    "    \n",
    "    n = x0.shape[0] # get dims \n",
    "    sqh = np.sqrt(2*dt*(1/beta)) # step control \n",
    "    traj = np.zeros((int(samples/subsample),n))\n",
    "    x = x0\n",
    "    j = 0; # sampling counter\n",
    "    for i in range(int(samples)):\n",
    "        x = x + drift(x)*dt + sqh*np.random.randn(n)\n",
    "        if i%subsample == 0: \n",
    "            traj[j,:] = x \n",
    "            j = j + 1 \n",
    "    \n",
    "    return traj "
   ]
  },
  {
   "cell_type": "code",
   "execution_count": 16,
   "id": "85a34a80",
   "metadata": {},
   "outputs": [],
   "source": [
    "# prep \n",
    "\n",
    "def euler_maruyama_metadynamics_OLD(drift, beta, dt, x0, height, Ndeposit = int(1e4), Nbumps = int(1e2), subsample=1e2):\n",
    "    \n",
    "    # setup \n",
    "    n = x0.shape[0] # get dims of problem\n",
    "    sqh = np.sqrt(2*dt*(1/beta)) # time step re-normalization for euler-maruyama\n",
    "    samples = np.zeros((int(np.floor(Ndeposit*Nbumps/subsample)),n)) # number of samples \n",
    "    coef = np.zeros((Nbumps,1)) # magnitude of each bump \n",
    "    xbump = np.zeros((Nbumps,2)) # locations of gaussian centres \n",
    "    i=0 # subsampling counter \n",
    "    height = height.reshape(coef.shape)\n",
    "    \n",
    "    # iteration: dX_t = grad V(X_t) + Σ_{i=1}^{k}V_i(X_t) dt + (2β^-1) dW_t \n",
    "    for k in range(Nbumps): \n",
    "\n",
    "        traj =  np.zeros((Ndeposit+1,n))\n",
    "        traj[0,:] = x0\n",
    "\n",
    "        for j in range(Ndeposit):\n",
    "            current_point = traj[j,:]\n",
    "\n",
    "            # compute modified gradient \n",
    "            aux = current_point - xbump # x - x_i \n",
    "            mod_grads = aux*(np.exp(-0.5*np.linalg.norm(aux,axis=1)**2).reshape(coef.shape))\n",
    "            dVbump = np.sum(coef*mod_grads, axis=0) \n",
    "\n",
    "            # compute drift gradient \n",
    "            dV = drift(current_point)\n",
    "\n",
    "            # # update\n",
    "            traj[j+1,:] = current_point + (dV + dVbump).reshape(n)*dt + sqh*np.random.randn(n)\n",
    "\n",
    "            # subsample trajectory \n",
    "            if ((k-1)*Ndeposit + j)%subsample == 0:\n",
    "                samples[i,:] = current_point\n",
    "                i=i+1 \n",
    "\n",
    "        # prepare for the next gaussian bump \n",
    "        x0 = traj[-1,:]\n",
    "        xbump[k,:] = x0\n",
    "        coef[k,:] = height[k,:]\n",
    "    \n",
    "    return samples "
   ]
  },
  {
   "cell_type": "code",
   "execution_count": null,
   "id": "00400e57",
   "metadata": {},
   "outputs": [],
   "source": []
  }
 ],
 "metadata": {
  "kernelspec": {
   "display_name": "Python 3 (ipykernel)",
   "language": "python",
   "name": "python3"
  },
  "language_info": {
   "codemirror_mode": {
    "name": "ipython",
    "version": 3
   },
   "file_extension": ".py",
   "mimetype": "text/x-python",
   "name": "python",
   "nbconvert_exporter": "python",
   "pygments_lexer": "ipython3",
   "version": "3.9.13"
  }
 },
 "nbformat": 4,
 "nbformat_minor": 5
}
