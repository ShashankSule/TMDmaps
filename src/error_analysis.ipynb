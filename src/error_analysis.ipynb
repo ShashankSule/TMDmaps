{
 "cells": [
  {
   "cell_type": "code",
   "execution_count": 1,
   "id": "d548a8e9",
   "metadata": {},
   "outputs": [],
   "source": [
    "import os\n",
    "import copy\n",
    "import sys \n",
    "\n",
    "# Regular Modules\n",
    "import numpy as np\n",
    "import sklearn as sklearn\n",
    "import matplotlib.pyplot as plt\n",
    "import datetime\n",
    "import scipy.integrate as scint\n",
    "#from numpy.random import default_rng\n",
    "import numpy.ma as ma\n",
    "import matplotlib.tri as tri\n",
    "import scipy.io\n",
    "import time \n",
    "from mpl_toolkits.mplot3d import axes3d\n",
    "\n",
    "# parallelization modules \n",
    "from math import nan\n",
    "from joblib import Parallel, delayed\n",
    "import multiprocess\n",
    "import itertools\n",
    "import tqdm\n",
    "\n",
    "# # My Modules\n",
    "import model_systems, helpers, potentials, diffusion_map \n",
    "from fem.distmesh import * \n",
    "from fem.FEM_TPT import *\n",
    "import sampling "
   ]
  },
  {
   "cell_type": "markdown",
   "id": "71fdd2a8",
   "metadata": {},
   "source": [
    "# Set up the problem "
   ]
  },
  {
   "cell_type": "code",
   "execution_count": 2,
   "id": "b8748b15",
   "metadata": {},
   "outputs": [],
   "source": [
    "# first choose problem \n",
    "problem = \"muller\"\n",
    "datadir = \"/Users/shashanksule/Documents/TMDmaps/data/Muller/ground_data/DistmeshMueller_20.mat\"\n",
    "if problem == \"muller\":\n",
    "    system = potentials.Muller(1/20, datadir) \n",
    "elif problem == \"twowell\":\n",
    "    system = potentials.Twowell(1, datadir)\n",
    "else:\n",
    "    print(\"invalid problem\")\n",
    "savedir = \"/Users/shashanksule/Documents/TMDmaps/data/Muller/error_data/\""
   ]
  },
  {
   "cell_type": "code",
   "execution_count": 3,
   "id": "48d0a1ab",
   "metadata": {},
   "outputs": [],
   "source": [
    "# next choose dataset params \n",
    "\n",
    "dataset = \"metadynamics\"\n",
    "x0 = np.array([0,0])\n",
    "dt = 1e-4\n",
    "Vbdry = 10 # 10 for muller, 1 (or less for twowell)\n",
    "\n",
    "# metadynamics params here\n",
    "Nbumps = int(1e2) \n",
    "Ndeposit = int(1e3)\n",
    "subsample = int(1e1)\n",
    "height = 5*np.ones(Nbumps)\n",
    "sig = 0.05 "
   ]
  },
  {
   "cell_type": "code",
   "execution_count": 4,
   "id": "f11d97c1",
   "metadata": {},
   "outputs": [],
   "source": [
    "# compute dataset \n",
    "\n",
    "if dataset == \"gibbs\": \n",
    "    data = sampling.euler_maruyama_OLD(system.drift, system.target_beta, \\\n",
    "                                       dt, x0, \\\n",
    "                                       int(1e6), int(1e2))\n",
    "elif dataset == \"metadynamics\":\n",
    "    data = sampling.euler_maruyama_metadynamics_OLD(system.drift, system.target_beta, \\\n",
    "                                                    dt, x0, height, sig, \\\n",
    "                                                    Ndeposit, Nbumps, subsample)\n",
    "elif dataset == \"uniform\": \n",
    "    data = sampling.fem_pts(system, 0.05, Vbdry)"
   ]
  },
  {
   "cell_type": "code",
   "execution_count": 5,
   "id": "563a2085",
   "metadata": {},
   "outputs": [
    {
     "data": {
      "text/plain": [
       "<matplotlib.collections.PathCollection at 0x127debd30>"
      ]
     },
     "execution_count": 5,
     "metadata": {},
     "output_type": "execute_result"
    },
    {
     "data": {
      "image/png": "[encoded data removed]",
      "text/plain": [
       "<Figure size 432x288 with 1 Axes>"
      ]
     },
     "metadata": {
      "needs_background": "light"
     },
     "output_type": "display_data"
    }
   ],
   "source": [
    "# visualize dataset \n",
    "\n",
    "plt.scatter(data[:,0], data[:,1])"
   ]
  },
  {
   "cell_type": "code",
   "execution_count": 6,
   "id": "d986d19c",
   "metadata": {},
   "outputs": [
    {
     "name": "stdout",
     "output_type": "stream",
     "text": [
      "System has been set up!\n"
     ]
    }
   ],
   "source": [
    "# upload fem soltuon\n",
    "system.load_fem()\n",
    "\n",
    "print(\"System has been set up!\")"
   ]
  },
  {
   "cell_type": "markdown",
   "id": "862c4ab8",
   "metadata": {},
   "source": [
    "# Run error sweep for one parameter combination "
   ]
  },
  {
   "cell_type": "code",
   "execution_count": 7,
   "id": "672e6aa0",
   "metadata": {},
   "outputs": [],
   "source": [
    "def error_data(t, count_points = False, kernel_stats = False, verbose = False, error_stats = True): \n",
    "    \n",
    "    ϵ, data_uniformized, vbdry, n_neigh = t # unravel parameters \n",
    "    \n",
    "    if verbose:\n",
    "         print(\"Started!\")\n",
    "    \n",
    "    err_boolz = system.throwing_pts_muller(data_uniformized.T, vbdry) # get points on data for error calculation\n",
    "    fem_error_boolz = system.throwing_pts_muller(system.qfem['pts'].T, vbdry) # get points on fem mesh for error calc.\n",
    "     \n",
    "    N = data_uniformized.shape[0] # get # of data points \n",
    "    outputs = []\n",
    "    \n",
    "    # collect # of points \n",
    "    if count_points: \n",
    "        outputs.append(N)\n",
    "    \n",
    "    # check knn condition \n",
    "    if n_neigh > N: \n",
    "        n_neigh = N-1\n",
    "    \n",
    "    # compute t.m.\n",
    "    target_measure = np.zeros(N)\n",
    "    for i in range(N):\n",
    "        target_measure[i] = system.density(data_uniformized[i,:])\n",
    "        \n",
    "    # get tmdmap \n",
    "    target_dmap = diffusion_map.TargetMeasureDiffusionMap(epsilon=ϵ, n_neigh=n_neigh, \\\n",
    "                                                          target_measure=target_measure)\n",
    "    # get kernel and generator \n",
    "    target_dmap.construct_generator(data_uniformized.T)\n",
    "    K = target_dmap.get_kernel()\n",
    "    L = target_dmap.get_generator() \n",
    "     \n",
    "    \n",
    "    if kernel_stats:\n",
    "        \n",
    "        # singer's estimate \n",
    "        outputs.append(scipy.sparse.csr_matrix.mean(K))\n",
    "     \n",
    "    if error_stats: \n",
    "        \n",
    "        # solve committor problem\n",
    "        try:\n",
    "            q_tmd = target_dmap.construct_committor(L, err_boolz['B_bool'], err_boolz['C_bool'])\n",
    "        except BaseException as e:\n",
    "            outputs.append(1e10)\n",
    "        else:\n",
    "            if verbose:\n",
    "                 print(\"hard part--done!\")\n",
    "\n",
    "            # checking interpolation, run this only if you want\n",
    "            q_interpolant_fem_to_tmd = scipy.interpolate.griddata(system.qfem['pts'], system.qfem['committor'],\\\n",
    "                                                                  data_uniformized, method='linear')\n",
    "            q_interpolant_tmd_to_fem = scipy.interpolate.griddata(data_uniformized, q_tmd, system.qfem['pts'], \\\n",
    "                                                          method='linear')\n",
    "\n",
    "            # compute errors on fem points \n",
    "            q_fem_error = system.qfem['committor'][fem_error_boolz['error_bool']]\n",
    "            q_interpolant_tmd_to_fem_error = q_interpolant_tmd_to_fem[fem_error_boolz['error_bool']].reshape(q_fem_error.shape)\n",
    "\n",
    "            # compute errors on tmd points \n",
    "            q_tmd_error = q_tmd[err_boolz['error_bool']]\n",
    "            q_interpolant_fem_to_tmd_error = q_interpolant_fem_to_tmd[err_boolz['error_bool']].reshape(q_tmd_error.shape)\n",
    "            \n",
    "            if verbose:\n",
    "                 print(\"Done!\")\n",
    "            \n",
    "            outputs.append(helpers.RMSerror(q_tmd_error, q_interpolant_fem_to_tmd_error, checknans=False))\n",
    "        \n",
    "    return outputs "
   ]
  },
  {
   "cell_type": "markdown",
   "id": "7447ef83",
   "metadata": {},
   "source": [
    "# Playing with multiprocessing/data collection"
   ]
  },
  {
   "cell_type": "code",
   "execution_count": 8,
   "id": "a8bab198",
   "metadata": {},
   "outputs": [],
   "source": [
    "# set up sparsification modules \n",
    "\n",
    "def deltanet(delta):\n",
    "    δ_net, _ = helpers.epsilon_net(data.T, delta)\n",
    "    return data[δ_net, :]\n",
    "def uniformnet(scaling):\n",
    "    return sampling.fem_pts(system, scaling, Vbdry)"
   ]
  },
  {
   "cell_type": "code",
   "execution_count": 10,
   "id": "bc5e880d",
   "metadata": {},
   "outputs": [],
   "source": [
    "# set up post-processed datasets \n",
    "\n",
    "num = multiprocess.cpu_count()\n",
    "# deltas = list(np.linspace(1e-6, 1e-1, 10))\n",
    "deltas = [0.09, 1.0]\n",
    "if dataset == \"uniform\":\n",
    "    with multiprocess.Pool(num) as processing_pool:\n",
    "        datasets = processing_pool.map(uniformnet, deltas)\n",
    "else:\n",
    "    with multiprocess.Pool(num) as processing_pool:\n",
    "        datasets = processing_pool.map(deltanet, deltas)"
   ]
  },
  {
   "cell_type": "code",
   "execution_count": 11,
   "id": "9c0fac68",
   "metadata": {},
   "outputs": [
    {
     "name": "stdout",
     "output_type": "stream",
     "text": [
      "parameters are ready! Beginning error analysis...\n"
     ]
    }
   ],
   "source": [
    "# set up all the other parameters of the system \n",
    "epsilons = [2**(-5), 2**(-6)]\n",
    "# epsilons = list(2.0**np.arange(-16, 2, 0.25))\n",
    "vbdry = [10,-10]\n",
    "n_neigh = [1024]\n",
    "args = list(itertools.product(*[epsilons, datasets, vbdry, n_neigh])) # create iterable for multiprocess\n",
    "params = {\"epsilons\": epsilons, \"deltas\": deltas, \"vbry\": vbdry, \"n_neigh\": n_neigh}\n",
    "\n",
    "print(\"parameters are ready! Beginning error analysis...\")"
   ]
  },
  {
   "cell_type": "code",
   "execution_count": 12,
   "id": "e18fec6f",
   "metadata": {},
   "outputs": [
    {
     "name": "stdout",
     "output_type": "stream",
     "text": [
      "Started!Started!Started!Started!Started!\n",
      "\n",
      "Started!Started!\n",
      "Started!\n",
      "\n",
      "\n",
      "\n",
      "\n",
      "hard part--done!hard part--done!hard part--done!hard part--done!\n",
      "\n",
      "\n",
      "\n",
      "Done!\n",
      "Done!\n",
      "hard part--done!\n",
      "Done!\n",
      "Done!\n",
      "Done!\n",
      "hard part--done!\n",
      "hard part--done!\n",
      "hard part--done!\n",
      "Done!\n",
      "Done!\n",
      "Done!\n"
     ]
    }
   ],
   "source": [
    "# run error analysis \n",
    "\n",
    "parallel = True\n",
    "count_points = True\n",
    "kernel_stats = True\n",
    "error_stats = True\n",
    "verbose = True\n",
    "def onepass(t): return error_data(t,count_points,kernel_stats, verbose, error_stats)\n",
    "\n",
    "if parallel: \n",
    "    with multiprocess.Pool(num) as pool:\n",
    "        result = pool.map(onepass, args)\n",
    "else:\n",
    "    result = []\n",
    "    for i in tqdm.tqdm(range(len(args))):\n",
    "        ans = onepass(args[i])\n",
    "        result.append(ans)"
   ]
  },
  {
   "cell_type": "code",
   "execution_count": 13,
   "id": "b42c2ac6",
   "metadata": {},
   "outputs": [],
   "source": [
    "# reorganize data\n",
    "N_points = []\n",
    "singer_estimates = []\n",
    "err_stats = []\n",
    "for i in range(len(result)):\n",
    "    N_points.append(result[i][0])\n",
    "    singer_estimates.append(result[i][1]) \n",
    "    err_stats.append(result[i][2])\n",
    "\n",
    "# convert error data to numpy \n",
    "N_tensor = np.array(N_points).reshape(len(epsilons), len(deltas), len(vbdry), len(n_neigh))\n",
    "err_tensor = np.array(err_stats).reshape(len(epsilons), len(deltas), len(vbdry), len(n_neigh))\n",
    "singer_estimates_tensor = np.array(singer_estimates).reshape(len(epsilons), len(deltas), len(vbdry), len(n_neigh))\n",
    "\n",
    "# write it all in a dict\n",
    "sim_results = {\"N_points\": N_tensor, \"singer_estimates\": singer_estimates_tensor, \"error_tensor\": err_tensor}"
   ]
  },
  {
   "cell_type": "code",
   "execution_count": 14,
   "id": "629c34a4",
   "metadata": {},
   "outputs": [],
   "source": [
    "# write to file \n",
    "stats = {\"system\": problem, \"beta\": system.target_beta, \"args\": params, \"sim_results\": sim_results}\n",
    "filename = savedir + problem + \"_\" + dataset + \".npy\"\n",
    "np.save(filename, stats)"
   ]
  },
  {
   "cell_type": "code",
   "execution_count": 180,
   "id": "49c73af0",
   "metadata": {},
   "outputs": [],
   "source": [
    "# to load data:\n",
    "# stats_loaded = np.load(filename, allow_pickle = True).item()"
   ]
  },
  {
   "cell_type": "code",
   "execution_count": 15,
   "id": "1f053906",
   "metadata": {},
   "outputs": [],
   "source": [
    "sys.path.append('..')"
   ]
  },
  {
   "cell_type": "code",
   "execution_count": 16,
   "id": "92955170",
   "metadata": {},
   "outputs": [
    {
     "data": {
      "text/plain": [
       "'/Users/shashanksule/Documents/TMDmaps/src'"
      ]
     },
     "execution_count": 16,
     "metadata": {},
     "output_type": "execute_result"
    }
   ],
   "source": [
    "os.getcwd()"
   ]
  },
  {
   "cell_type": "code",
   "execution_count": null,
   "id": "49e97c30",
   "metadata": {},
   "outputs": [],
   "source": []
  }
 ],
 "metadata": {
  "kernelspec": {
   "display_name": "Python 3 (ipykernel)",
   "language": "python",
   "name": "python3"
  },
  "language_info": {
   "codemirror_mode": {
    "name": "ipython",
    "version": 3
   },
   "file_extension": ".py",
   "mimetype": "text/x-python",
   "name": "python",
   "nbconvert_exporter": "python",
   "pygments_lexer": "ipython3",
   "version": "3.9.13"
  }
 },
 "nbformat": 4,
 "nbformat_minor": 5
}
