{
 "cells": [
  {
   "cell_type": "code",
   "execution_count": 1,
   "id": "d548a8e9",
   "metadata": {},
   "outputs": [],
   "source": [
    "import os\n",
    "import copy\n",
    "import sys \n",
    "\n",
    "# Regular Modules\n",
    "import numpy as np\n",
    "import sklearn as sklearn\n",
    "import matplotlib.pyplot as plt\n",
    "import datetime\n",
    "import scipy.integrate as scint\n",
    "#from numpy.random import default_rng\n",
    "import numpy.ma as ma\n",
    "import matplotlib.tri as tri\n",
    "import scipy.io\n",
    "import time \n",
    "from mpl_toolkits.mplot3d import axes3d\n",
    "\n",
    "# parallelization modules \n",
    "from math import nan\n",
    "from joblib import Parallel, delayed\n",
    "import multiprocessing\n",
    "import itertools\n",
    "\n",
    "# # My Modules\n",
    "import model_systems, helpers, potentials, diffusion_map \n",
    "from fem.distmesh import * \n",
    "from fem.FEM_TPT import *\n",
    "import sampling "
   ]
  },
  {
   "cell_type": "markdown",
   "id": "71fdd2a8",
   "metadata": {},
   "source": [
    "# Set up the problem "
   ]
  },
  {
   "cell_type": "code",
   "execution_count": 2,
   "id": "b8748b15",
   "metadata": {},
   "outputs": [],
   "source": [
    "# first choose problem \n",
    "problem = \"muller\"\n",
    "datadir = \"/Users/shashanksule/Documents/TMDmaps/data/Muller/ground_data/DistmeshMueller_20.mat\"\n",
    "if problem == \"muller\":\n",
    "    system = potentials.Muller(1/20, datadir) \n",
    "elif problem == \"twowell\":\n",
    "    system = potentials.Twowell(1, datadir)\n",
    "else:\n",
    "    print(\"invalid problem\")"
   ]
  },
  {
   "cell_type": "code",
   "execution_count": 3,
   "id": "48d0a1ab",
   "metadata": {},
   "outputs": [],
   "source": [
    "# next choose dataset params \n",
    "\n",
    "dataset = \"metadynamics\"\n",
    "x0 = np.array([0,0])\n",
    "dt = 1e-4\n",
    "Vbdry = 10 # 10 for muller, 1 (or less for twowell)\n",
    "\n",
    "# metadynamics params here\n",
    "Nbumps = int(1e3) \n",
    "Ndeposit = int(1e3)\n",
    "subsample = int(1e3)\n",
    "height = 5*np.ones(Nbumps)\n",
    "sig = 0.05 "
   ]
  },
  {
   "cell_type": "code",
   "execution_count": 4,
   "id": "f11d97c1",
   "metadata": {},
   "outputs": [],
   "source": [
    "# compute dataset \n",
    "\n",
    "if dataset == \"gibbs\": \n",
    "    data = sampling.euler_maruyama_OLD(system.drift, system.target_beta, \\\n",
    "                                       dt, x0, \\\n",
    "                                       int(1e6), int(1e2))\n",
    "elif dataset == \"metadynamics\":\n",
    "    data = sampling.euler_maruyama_metadynamics_OLD(system.drift, system.target_beta, \\\n",
    "                                                    dt, x0, height, sig, \\\n",
    "                                                    Ndeposit, Nbumps, subsample)\n",
    "elif dataset == \"uniform\": \n",
    "    data = sampling.fem_pts(system, 0.05, Vbdry)"
   ]
  },
  {
   "cell_type": "code",
   "execution_count": 8,
   "id": "563a2085",
   "metadata": {},
   "outputs": [
    {
     "data": {
      "text/plain": [
       "<matplotlib.collections.PathCollection at 0x13a812d00>"
      ]
     },
     "execution_count": 8,
     "metadata": {},
     "output_type": "execute_result"
    },
    {
     "data": {
      "image/png": "[encoded data removed]",
      "text/plain": [
       "<Figure size 432x288 with 1 Axes>"
      ]
     },
     "metadata": {
      "needs_background": "light"
     },
     "output_type": "display_data"
    }
   ],
   "source": [
    "# visualize dataset \n",
    "\n",
    "plt.scatter(data[:,0], data[:,1])"
   ]
  },
  {
   "cell_type": "code",
   "execution_count": 9,
   "id": "d986d19c",
   "metadata": {},
   "outputs": [],
   "source": [
    "# upload fem soltuon\n",
    "system.load_fem()"
   ]
  },
  {
   "cell_type": "markdown",
   "id": "9f06a141",
   "metadata": {},
   "source": [
    "# Set up t.m. diffusion map "
   ]
  },
  {
   "cell_type": "code",
   "execution_count": 15,
   "id": "9de60e3f",
   "metadata": {},
   "outputs": [],
   "source": [
    "# tmd map params \n",
    "ϵ = 2**(-5) # bandwidth\n",
    "δ = 0.01 # sparsification \n",
    "vbdry = 10 # error comparison region \n",
    "n_neigh = 920 # knn-neigbours \n",
    "σ = 3"
   ]
  },
  {
   "cell_type": "code",
   "execution_count": 16,
   "id": "f393722a",
   "metadata": {},
   "outputs": [],
   "source": [
    "# set up diff. map \n",
    "δ_net, _ = helpers.epsilon_net(data.T, δ)\n",
    "data_uniformized = data[δ_net, :] \n",
    "err_boolz = system.throwing_pts_muller(data_uniformized.T, vbdry)\n",
    "N = data_uniformized.shape[0] "
   ]
  },
  {
   "cell_type": "code",
   "execution_count": 17,
   "id": "ce6eb04f",
   "metadata": {},
   "outputs": [],
   "source": [
    "# compute t.m.\n",
    "target_measure = np.zeros(N)\n",
    "for i in range(N):\n",
    "    target_measure[i] = system.density(data_uniformized[i,:])"
   ]
  },
  {
   "cell_type": "code",
   "execution_count": 18,
   "id": "b8b71a70",
   "metadata": {},
   "outputs": [],
   "source": [
    "# get tmdmap \n",
    "target_dmap = diffusion_map.TargetMeasureDiffusionMap(epsilon=ϵ, n_neigh=n_neigh, target_measure=target_measure)"
   ]
  },
  {
   "cell_type": "code",
   "execution_count": 19,
   "id": "78d3d79f",
   "metadata": {},
   "outputs": [],
   "source": [
    "# get kernel and generator \n",
    "\n",
    "target_dmap.construct_generator(data_uniformized.T)\n",
    "K = target_dmap.get_kernel()\n",
    "L = target_dmap.get_generator() "
   ]
  },
  {
   "cell_type": "code",
   "execution_count": 20,
   "id": "706a46ff",
   "metadata": {},
   "outputs": [],
   "source": [
    "q_tmd = target_dmap.construct_committor(L, err_boolz['B_bool'], err_boolz['C_bool'])"
   ]
  },
  {
   "cell_type": "markdown",
   "id": "c4ae9170",
   "metadata": {},
   "source": [
    "# Compare errors "
   ]
  },
  {
   "cell_type": "code",
   "execution_count": 21,
   "id": "7ea69c15",
   "metadata": {},
   "outputs": [],
   "source": [
    "# checking interpolation, run this only if you want\n",
    "q_interpolant_fem_to_tmd = scipy.interpolate.griddata(system.qfem['pts'], system.qfem['committor'], data_uniformized, \\\n",
    "                                                    method='linear')\n",
    "q_interpolant_tmd_to_fem = scipy.interpolate.griddata(data_uniformized, q_tmd, system.qfem['pts'], \\\n",
    "                                                  method='linear')"
   ]
  },
  {
   "cell_type": "code",
   "execution_count": 22,
   "id": "5b00b192",
   "metadata": {},
   "outputs": [],
   "source": [
    "fem_error_boolz = system.throwing_pts_muller(system.qfem['pts'].T, vbdry)"
   ]
  },
  {
   "cell_type": "code",
   "execution_count": 23,
   "id": "418c5062",
   "metadata": {},
   "outputs": [],
   "source": [
    "# compute errors on fem points \n",
    "q_fem_error = system.qfem['committor'][fem_error_boolz['error_bool']]\n",
    "q_interpolant_tmd_to_fem_error = q_interpolant_tmd_to_fem[fem_error_boolz['error_bool']].reshape(q_fem_error.shape)\n",
    "\n",
    "# compute errors on tmd points \n",
    "q_tmd_error = q_tmd[err_boolz['error_bool']]\n",
    "q_interpolant_fem_to_tmd_error = q_interpolant_fem_to_tmd[err_boolz['error_bool']].reshape(q_tmd_error.shape)\n"
   ]
  },
  {
   "cell_type": "code",
   "execution_count": 25,
   "id": "751b28b9",
   "metadata": {},
   "outputs": [
    {
     "data": {
      "text/plain": [
       "0.012759429713353816"
      ]
     },
     "execution_count": 25,
     "metadata": {},
     "output_type": "execute_result"
    }
   ],
   "source": [
    "helpers.RMSerror(q_tmd_error, q_interpolant_fem_to_tmd_error, checknans=True)"
   ]
  },
  {
   "cell_type": "markdown",
   "id": "f75f3cd5",
   "metadata": {},
   "source": [
    "# Eigenvalues of dirichlet laplacian "
   ]
  },
  {
   "cell_type": "code",
   "execution_count": null,
   "id": "46babaf2",
   "metadata": {},
   "outputs": [],
   "source": [
    "ϵ = 2**(-5) # bandwidth\n",
    "δ = 0.01 # sparsification \n",
    "vbdry = 10 # error comparison region \n",
    "n_neigh = 1024 # knn-neigbours  \n",
    "target_dmap = diffusion_map.TargetMeasureDiffusionMap(epsilon=ϵ, n_neigh=n_neigh, target_measure=target_measure)\n",
    "evals = np.zeros(100) \n",
    "\n",
    "for i in range(100): \n",
    "    data = sampling.euler_maruyama_metadynamics_OLD(system.drift, system.target_beta, \\\n",
    "                                                    dt, x0, height, sig, \\\n",
    "                                                    Ndeposit, Nbumps, int(1e4))\n",
    "    target_dmap.construct_generator(data_uniformized.T)\n",
    "    K = target_dmap.get_kernel()\n",
    "    L = target_dmap.get_generator() \n",
    "    "
   ]
  }
 ],
 "metadata": {
  "kernelspec": {
   "display_name": "Python 3 (ipykernel)",
   "language": "python",
   "name": "python3"
  },
  "language_info": {
   "codemirror_mode": {
    "name": "ipython",
    "version": 3
   },
   "file_extension": ".py",
   "mimetype": "text/x-python",
   "name": "python",
   "nbconvert_exporter": "python",
   "pygments_lexer": "ipython3",
   "version": "3.9.13"
  }
 },
 "nbformat": 4,
 "nbformat_minor": 5
}
